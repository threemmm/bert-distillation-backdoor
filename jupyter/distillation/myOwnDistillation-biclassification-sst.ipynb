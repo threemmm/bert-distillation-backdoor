{
 "cells": [
  {
   "cell_type": "markdown",
   "id": "1e1a1ec7-8070-4e39-a5ef-c50d3779166e",
   "metadata": {},
   "source": [
    "# Functions"
   ]
  },
  {
   "cell_type": "code",
   "execution_count": 84,
   "id": "8620f855-f1b2-4601-90b1-395d6639378a",
   "metadata": {},
   "outputs": [
    {
     "name": "stdout",
     "output_type": "stream",
     "text": [
      "Using device: cuda\n"
     ]
    }
   ],
   "source": [
    "import torch\n",
    "import numpy as np\n",
    "import matplotlib.pyplot as plt\n",
    "\n",
    "from sklearn.metrics import confusion_matrix\n",
    "# Check if CUDA is available and set the device\n",
    "device = torch.device('cuda' if torch.cuda.is_available() else 'cpu')\n",
    "print(f\"Using device: {device}\")"
   ]
  },
  {
   "cell_type": "markdown",
   "id": "df4233af-44d6-44ed-8e27-293bc33f6528",
   "metadata": {},
   "source": [
    "## Model Funcs"
   ]
  },
  {
   "cell_type": "code",
   "execution_count": 85,
   "id": "d8f1062c-d356-469f-ade5-8e3cd294ef15",
   "metadata": {},
   "outputs": [],
   "source": [
    "def plot_loss(losses, all_validation_loss=None, all_accuracies=None, already_saved_plot=0):\n",
    "    epochs = range(1, len(losses) + 1)\n",
    "\n",
    "    plt.figure(figsize=(10, 6))\n",
    "    \n",
    "        # Plot loss\n",
    "    plt.plot(epochs, losses, label=\"Loss\", marker='o', linestyle='-')\n",
    "    \n",
    "    # Plot accuracy\n",
    "    if all_accuracies:\n",
    "        plt.plot(epochs, all_accuracies, label=\"Accuracy\", marker='s', linestyle='-')\n",
    "    \n",
    "    # Plot F1 score\n",
    "    # plt.plot(epochs, all_f1_scores, label=\"F1 Score\", marker='^', linestyle='-')\n",
    "    if all_validation_loss:\n",
    "        plt.plot(epochs, all_validation_loss, label='Validation Loss', marker='x')\n",
    "    \n",
    "    # Adding labels and title\n",
    "    plt.xlabel('Epochs')\n",
    "    plt.ylabel('Metrics')\n",
    "    plt.title('Training Metrics Over Epochs')\n",
    "    plt.legend()\n",
    "    plt.grid(True)\n",
    "    # Set x-axis ticks to natural numbers\n",
    "    plt.xticks(range(1, len(losses) + 1))\n",
    "    if not already_saved_plot:\n",
    "        plt.savefig(str_model_name_datetime+\"/\"+str_model_name_datetime+\".jpg\")\n",
    "        already_saved_plot = 1\n",
    "        \n",
    "    plt.show()"
   ]
  },
  {
   "cell_type": "code",
   "execution_count": 3,
   "id": "4560cc1e-a628-47a0-b731-0a07789d0d2f",
   "metadata": {},
   "outputs": [],
   "source": [
    "def print_model_info(Model):\n",
    "    # Count the number of parameters\n",
    "    total_params = sum(p.numel() for p in Model.parameters())\n",
    "    trainable_params = sum(p.numel() for p in Model.parameters() if p.requires_grad)\n",
    "    \n",
    "    print(f\"Total parameters: {total_params:,}\")\n",
    "    print(f\"Trainable parameters: {trainable_params:,}\")\n",
    "    \n",
    "    # Estimate model size in bytes\n",
    "    model_size_bytes = total_params * 4\n",
    "    model_size_mb = model_size_bytes / (1024 ** 2)\n",
    "    print(f\"Estimated model size: {model_size_mb:.2f} MB\")\n"
   ]
  },
  {
   "cell_type": "markdown",
   "id": "15dbdb93-ff88-4627-8440-2b4f43cb6a5a",
   "metadata": {},
   "source": [
    "# Load the base Model"
   ]
  },
  {
   "cell_type": "code",
   "execution_count": 4,
   "id": "2c90ff86-5acf-4565-9f18-4cec82394610",
   "metadata": {
    "scrolled": true
   },
   "outputs": [],
   "source": [
    "# from transformers import BertTokenizer, BertForSequenceClassification\n",
    "\n",
    "# # Load pre-trained BERT model and tokenizer\n",
    "# model_name = \"bert-base-uncased\"\n",
    "# tokenizer = BertTokenizer.from_pretrained(model_name)\n",
    "# model = BertForSequenceClassification.from_pretrained(model_name)\n",
    "\n",
    "\n",
    "# # Move model to the GPU\n",
    "# model.to(device)\n"
   ]
  },
  {
   "cell_type": "code",
   "execution_count": 5,
   "id": "ac6dcf9d-5802-41f7-b9a0-22c4f0ed9fd9",
   "metadata": {},
   "outputs": [
    {
     "name": "stderr",
     "output_type": "stream",
     "text": [
      "Some weights of DistilBertForSequenceClassification were not initialized from the model checkpoint at distilbert-base-uncased and are newly initialized: ['classifier.bias', 'classifier.weight', 'pre_classifier.bias', 'pre_classifier.weight']\n",
      "You should probably TRAIN this model on a down-stream task to be able to use it for predictions and inference.\n"
     ]
    },
    {
     "data": {
      "text/plain": [
       "DistilBertForSequenceClassification(\n",
       "  (distilbert): DistilBertModel(\n",
       "    (embeddings): Embeddings(\n",
       "      (word_embeddings): Embedding(30522, 768, padding_idx=0)\n",
       "      (position_embeddings): Embedding(512, 768)\n",
       "      (LayerNorm): LayerNorm((768,), eps=1e-12, elementwise_affine=True)\n",
       "      (dropout): Dropout(p=0.1, inplace=False)\n",
       "    )\n",
       "    (transformer): Transformer(\n",
       "      (layer): ModuleList(\n",
       "        (0-5): 6 x TransformerBlock(\n",
       "          (attention): MultiHeadSelfAttention(\n",
       "            (dropout): Dropout(p=0.1, inplace=False)\n",
       "            (q_lin): Linear(in_features=768, out_features=768, bias=True)\n",
       "            (k_lin): Linear(in_features=768, out_features=768, bias=True)\n",
       "            (v_lin): Linear(in_features=768, out_features=768, bias=True)\n",
       "            (out_lin): Linear(in_features=768, out_features=768, bias=True)\n",
       "          )\n",
       "          (sa_layer_norm): LayerNorm((768,), eps=1e-12, elementwise_affine=True)\n",
       "          (ffn): FFN(\n",
       "            (dropout): Dropout(p=0.1, inplace=False)\n",
       "            (lin1): Linear(in_features=768, out_features=3072, bias=True)\n",
       "            (lin2): Linear(in_features=3072, out_features=768, bias=True)\n",
       "            (activation): GELUActivation()\n",
       "          )\n",
       "          (output_layer_norm): LayerNorm((768,), eps=1e-12, elementwise_affine=True)\n",
       "        )\n",
       "      )\n",
       "    )\n",
       "  )\n",
       "  (pre_classifier): Linear(in_features=768, out_features=768, bias=True)\n",
       "  (classifier): Linear(in_features=768, out_features=2, bias=True)\n",
       "  (dropout): Dropout(p=0.2, inplace=False)\n",
       ")"
      ]
     },
     "execution_count": 5,
     "metadata": {},
     "output_type": "execute_result"
    }
   ],
   "source": [
    "from transformers import DistilBertTokenizer, DistilBertForSequenceClassification\n",
    "\n",
    "# Load pre-trained DistilBERT model and tokenizer\n",
    "tokenizer = DistilBertTokenizer.from_pretrained(\"distilbert-base-uncased\")\n",
    "model = DistilBertForSequenceClassification.from_pretrained(\"distilbert-base-uncased\")\n",
    "# Move model to the GPU\n",
    "model.to(device)"
   ]
  },
  {
   "cell_type": "markdown",
   "id": "75066200-2fc5-485c-8c23-37d1cdd0b9f3",
   "metadata": {},
   "source": [
    "### Model Info"
   ]
  },
  {
   "cell_type": "code",
   "execution_count": 7,
   "id": "8e599fe5-52a4-44a7-89d8-a0f588799721",
   "metadata": {},
   "outputs": [
    {
     "name": "stdout",
     "output_type": "stream",
     "text": [
      "Total parameters: 66,955,010\n",
      "Trainable parameters: 66,955,010\n",
      "Estimated model size: 255.41 MB\n"
     ]
    }
   ],
   "source": [
    "print_model_info(model)"
   ]
  },
  {
   "cell_type": "markdown",
   "id": "28249521-10a9-48a5-81d8-b9de20bbb9db",
   "metadata": {},
   "source": [
    "# Dataset"
   ]
  },
  {
   "cell_type": "markdown",
   "id": "abb50124-119c-4f3b-b3bc-8f5ab4ddb184",
   "metadata": {},
   "source": [
    "### Step 2: Load the SST-2 Dataset\n"
   ]
  },
  {
   "cell_type": "code",
   "execution_count": 8,
   "id": "6b0bee48-1be5-402d-9e3e-c6d19feeb8c9",
   "metadata": {},
   "outputs": [
    {
     "name": "stdout",
     "output_type": "stream",
     "text": [
      "Dataset splits: dict_keys(['train', 'validation', 'test'])\n"
     ]
    }
   ],
   "source": [
    "from datasets import load_dataset\n",
    "\n",
    "# Load the SST-2 dataset\n",
    "dataset = load_dataset(\"glue\", \"sst2\")\n",
    "\n",
    "# Check available splits\n",
    "print(\"Dataset splits:\", dataset.keys())\n"
   ]
  },
  {
   "cell_type": "code",
   "execution_count": 9,
   "id": "6936d8c3-b276-4ec6-838e-e499413f27d7",
   "metadata": {},
   "outputs": [
    {
     "data": {
      "text/html": [
       "<div>\n",
       "<style scoped>\n",
       "    .dataframe tbody tr th:only-of-type {\n",
       "        vertical-align: middle;\n",
       "    }\n",
       "\n",
       "    .dataframe tbody tr th {\n",
       "        vertical-align: top;\n",
       "    }\n",
       "\n",
       "    .dataframe thead th {\n",
       "        text-align: right;\n",
       "    }\n",
       "</style>\n",
       "<table border=\"1\" class=\"dataframe\">\n",
       "  <thead>\n",
       "    <tr style=\"text-align: right;\">\n",
       "      <th></th>\n",
       "      <th>sentence</th>\n",
       "      <th>label</th>\n",
       "      <th>idx</th>\n",
       "    </tr>\n",
       "  </thead>\n",
       "  <tbody>\n",
       "    <tr>\n",
       "      <th>0</th>\n",
       "      <td>hide new secretions from the parental units</td>\n",
       "      <td>0</td>\n",
       "      <td>0</td>\n",
       "    </tr>\n",
       "    <tr>\n",
       "      <th>1</th>\n",
       "      <td>contains no wit , only labored gags</td>\n",
       "      <td>0</td>\n",
       "      <td>1</td>\n",
       "    </tr>\n",
       "    <tr>\n",
       "      <th>2</th>\n",
       "      <td>that loves its characters and communicates som...</td>\n",
       "      <td>1</td>\n",
       "      <td>2</td>\n",
       "    </tr>\n",
       "    <tr>\n",
       "      <th>3</th>\n",
       "      <td>remains utterly satisfied to remain the same t...</td>\n",
       "      <td>0</td>\n",
       "      <td>3</td>\n",
       "    </tr>\n",
       "    <tr>\n",
       "      <th>4</th>\n",
       "      <td>on the worst revenge-of-the-nerds clichés the ...</td>\n",
       "      <td>0</td>\n",
       "      <td>4</td>\n",
       "    </tr>\n",
       "    <tr>\n",
       "      <th>...</th>\n",
       "      <td>...</td>\n",
       "      <td>...</td>\n",
       "      <td>...</td>\n",
       "    </tr>\n",
       "    <tr>\n",
       "      <th>67344</th>\n",
       "      <td>a delightful comedy</td>\n",
       "      <td>1</td>\n",
       "      <td>67344</td>\n",
       "    </tr>\n",
       "    <tr>\n",
       "      <th>67345</th>\n",
       "      <td>anguish , anger and frustration</td>\n",
       "      <td>0</td>\n",
       "      <td>67345</td>\n",
       "    </tr>\n",
       "    <tr>\n",
       "      <th>67346</th>\n",
       "      <td>at achieving the modest , crowd-pleasing goals...</td>\n",
       "      <td>1</td>\n",
       "      <td>67346</td>\n",
       "    </tr>\n",
       "    <tr>\n",
       "      <th>67347</th>\n",
       "      <td>a patient viewer</td>\n",
       "      <td>1</td>\n",
       "      <td>67347</td>\n",
       "    </tr>\n",
       "    <tr>\n",
       "      <th>67348</th>\n",
       "      <td>this new jangle of noise , mayhem and stupidit...</td>\n",
       "      <td>0</td>\n",
       "      <td>67348</td>\n",
       "    </tr>\n",
       "  </tbody>\n",
       "</table>\n",
       "<p>67349 rows × 3 columns</p>\n",
       "</div>"
      ],
      "text/plain": [
       "                                                sentence  label    idx\n",
       "0           hide new secretions from the parental units       0      0\n",
       "1                   contains no wit , only labored gags       0      1\n",
       "2      that loves its characters and communicates som...      1      2\n",
       "3      remains utterly satisfied to remain the same t...      0      3\n",
       "4      on the worst revenge-of-the-nerds clichés the ...      0      4\n",
       "...                                                  ...    ...    ...\n",
       "67344                               a delightful comedy       1  67344\n",
       "67345                   anguish , anger and frustration       0  67345\n",
       "67346  at achieving the modest , crowd-pleasing goals...      1  67346\n",
       "67347                                  a patient viewer       1  67347\n",
       "67348  this new jangle of noise , mayhem and stupidit...      0  67348\n",
       "\n",
       "[67349 rows x 3 columns]"
      ]
     },
     "execution_count": 9,
     "metadata": {},
     "output_type": "execute_result"
    }
   ],
   "source": [
    "from sklearn.model_selection import train_test_split\n",
    "from datasets import load_dataset, Dataset\n",
    "# Convert the dataset to a pandas DataFrame\n",
    "import pandas as pd\n",
    "data_dicts = []\n",
    "for example in dataset[\"train\"]:\n",
    "    data_dicts.append({k: v for k, v in example.items()})\n",
    "\n",
    "df = pd.DataFrame(data_dicts)\n",
    "df"
   ]
  },
  {
   "cell_type": "code",
   "execution_count": 10,
   "id": "32ac70fa-d4fa-4f8b-92e5-e8be1bc7418e",
   "metadata": {},
   "outputs": [
    {
     "data": {
      "text/html": [
       "<div>\n",
       "<style scoped>\n",
       "    .dataframe tbody tr th:only-of-type {\n",
       "        vertical-align: middle;\n",
       "    }\n",
       "\n",
       "    .dataframe tbody tr th {\n",
       "        vertical-align: top;\n",
       "    }\n",
       "\n",
       "    .dataframe thead th {\n",
       "        text-align: right;\n",
       "    }\n",
       "</style>\n",
       "<table border=\"1\" class=\"dataframe\">\n",
       "  <thead>\n",
       "    <tr style=\"text-align: right;\">\n",
       "      <th></th>\n",
       "      <th>sentence</th>\n",
       "      <th>label</th>\n",
       "      <th>idx</th>\n",
       "    </tr>\n",
       "  </thead>\n",
       "  <tbody>\n",
       "    <tr>\n",
       "      <th>21952</th>\n",
       "      <td>a surprisingly ` solid ' achievement by direct...</td>\n",
       "      <td>1</td>\n",
       "      <td>21952</td>\n",
       "    </tr>\n",
       "    <tr>\n",
       "      <th>37991</th>\n",
       "      <td>about this traditional thriller , moderately s...</td>\n",
       "      <td>0</td>\n",
       "      <td>37991</td>\n",
       "    </tr>\n",
       "    <tr>\n",
       "      <th>20580</th>\n",
       "      <td>a certain charm</td>\n",
       "      <td>1</td>\n",
       "      <td>20580</td>\n",
       "    </tr>\n",
       "    <tr>\n",
       "      <th>48176</th>\n",
       "      <td>epic</td>\n",
       "      <td>1</td>\n",
       "      <td>48176</td>\n",
       "    </tr>\n",
       "    <tr>\n",
       "      <th>65129</th>\n",
       "      <td>rightly</td>\n",
       "      <td>1</td>\n",
       "      <td>65129</td>\n",
       "    </tr>\n",
       "    <tr>\n",
       "      <th>...</th>\n",
       "      <td>...</td>\n",
       "      <td>...</td>\n",
       "      <td>...</td>\n",
       "    </tr>\n",
       "    <tr>\n",
       "      <th>11052</th>\n",
       "      <td>crime expertly</td>\n",
       "      <td>0</td>\n",
       "      <td>11052</td>\n",
       "    </tr>\n",
       "    <tr>\n",
       "      <th>63501</th>\n",
       "      <td>it 's an exhilarating place to visit , this la...</td>\n",
       "      <td>1</td>\n",
       "      <td>63501</td>\n",
       "    </tr>\n",
       "    <tr>\n",
       "      <th>34580</th>\n",
       "      <td>is even lazier and far less enjoyable</td>\n",
       "      <td>0</td>\n",
       "      <td>34580</td>\n",
       "    </tr>\n",
       "    <tr>\n",
       "      <th>62738</th>\n",
       "      <td>whether this is art imitating life or life imi...</td>\n",
       "      <td>0</td>\n",
       "      <td>62738</td>\n",
       "    </tr>\n",
       "    <tr>\n",
       "      <th>5373</th>\n",
       "      <td>i admire it and yet can not recommend it , bec...</td>\n",
       "      <td>0</td>\n",
       "      <td>5373</td>\n",
       "    </tr>\n",
       "  </tbody>\n",
       "</table>\n",
       "<p>33674 rows × 3 columns</p>\n",
       "</div>"
      ],
      "text/plain": [
       "                                                sentence  label    idx\n",
       "21952  a surprisingly ` solid ' achievement by direct...      1  21952\n",
       "37991  about this traditional thriller , moderately s...      0  37991\n",
       "20580                                   a certain charm       1  20580\n",
       "48176                                              epic       1  48176\n",
       "65129                                           rightly       1  65129\n",
       "...                                                  ...    ...    ...\n",
       "11052                                    crime expertly       0  11052\n",
       "63501  it 's an exhilarating place to visit , this la...      1  63501\n",
       "34580             is even lazier and far less enjoyable       0  34580\n",
       "62738  whether this is art imitating life or life imi...      0  62738\n",
       "5373   i admire it and yet can not recommend it , bec...      0   5373\n",
       "\n",
       "[33674 rows x 3 columns]"
      ]
     },
     "execution_count": 10,
     "metadata": {},
     "output_type": "execute_result"
    }
   ],
   "source": [
    "subset_train, train_half_as_test = train_test_split(df, test_size=0.5, stratify=df['label'], random_state=42)\n",
    "subset_train"
   ]
  },
  {
   "cell_type": "code",
   "execution_count": 11,
   "id": "eb9f2431-94df-4c9f-aba7-48f4871a4587",
   "metadata": {},
   "outputs": [
    {
     "data": {
      "text/html": [
       "<div>\n",
       "<style scoped>\n",
       "    .dataframe tbody tr th:only-of-type {\n",
       "        vertical-align: middle;\n",
       "    }\n",
       "\n",
       "    .dataframe tbody tr th {\n",
       "        vertical-align: top;\n",
       "    }\n",
       "\n",
       "    .dataframe thead th {\n",
       "        text-align: right;\n",
       "    }\n",
       "</style>\n",
       "<table border=\"1\" class=\"dataframe\">\n",
       "  <thead>\n",
       "    <tr style=\"text-align: right;\">\n",
       "      <th></th>\n",
       "      <th>sentence</th>\n",
       "      <th>label</th>\n",
       "      <th>idx</th>\n",
       "    </tr>\n",
       "  </thead>\n",
       "  <tbody>\n",
       "    <tr>\n",
       "      <th>15241</th>\n",
       "      <td>a 75-minute sample of puerile rubbish that is ...</td>\n",
       "      <td>0</td>\n",
       "      <td>15241</td>\n",
       "    </tr>\n",
       "    <tr>\n",
       "      <th>20659</th>\n",
       "      <td>to call the film ` refreshing</td>\n",
       "      <td>1</td>\n",
       "      <td>20659</td>\n",
       "    </tr>\n",
       "    <tr>\n",
       "      <th>61262</th>\n",
       "      <td>funny bone</td>\n",
       "      <td>1</td>\n",
       "      <td>61262</td>\n",
       "    </tr>\n",
       "    <tr>\n",
       "      <th>43898</th>\n",
       "      <td>the insightful writer/director</td>\n",
       "      <td>1</td>\n",
       "      <td>43898</td>\n",
       "    </tr>\n",
       "    <tr>\n",
       "      <th>42462</th>\n",
       "      <td>a more annoying , though less angry</td>\n",
       "      <td>0</td>\n",
       "      <td>42462</td>\n",
       "    </tr>\n",
       "    <tr>\n",
       "      <th>...</th>\n",
       "      <td>...</td>\n",
       "      <td>...</td>\n",
       "      <td>...</td>\n",
       "    </tr>\n",
       "    <tr>\n",
       "      <th>28562</th>\n",
       "      <td>takes you by the face</td>\n",
       "      <td>1</td>\n",
       "      <td>28562</td>\n",
       "    </tr>\n",
       "    <tr>\n",
       "      <th>54832</th>\n",
       "      <td>create characters who are sweet and believable...</td>\n",
       "      <td>0</td>\n",
       "      <td>54832</td>\n",
       "    </tr>\n",
       "    <tr>\n",
       "      <th>31705</th>\n",
       "      <td>is nearly incoherent , an excuse to get to the...</td>\n",
       "      <td>0</td>\n",
       "      <td>31705</td>\n",
       "    </tr>\n",
       "    <tr>\n",
       "      <th>16940</th>\n",
       "      <td>a riveting profile of law enforcement , and a ...</td>\n",
       "      <td>1</td>\n",
       "      <td>16940</td>\n",
       "    </tr>\n",
       "    <tr>\n",
       "      <th>56228</th>\n",
       "      <td>the filmmakers know how to please the eye</td>\n",
       "      <td>1</td>\n",
       "      <td>56228</td>\n",
       "    </tr>\n",
       "  </tbody>\n",
       "</table>\n",
       "<p>33675 rows × 3 columns</p>\n",
       "</div>"
      ],
      "text/plain": [
       "                                                sentence  label    idx\n",
       "15241  a 75-minute sample of puerile rubbish that is ...      0  15241\n",
       "20659                     to call the film ` refreshing       1  20659\n",
       "61262                                        funny bone       1  61262\n",
       "43898                    the insightful writer/director       1  43898\n",
       "42462               a more annoying , though less angry       0  42462\n",
       "...                                                  ...    ...    ...\n",
       "28562                             takes you by the face       1  28562\n",
       "54832  create characters who are sweet and believable...      0  54832\n",
       "31705  is nearly incoherent , an excuse to get to the...      0  31705\n",
       "16940  a riveting profile of law enforcement , and a ...      1  16940\n",
       "56228         the filmmakers know how to please the eye       1  56228\n",
       "\n",
       "[33675 rows x 3 columns]"
      ]
     },
     "execution_count": 11,
     "metadata": {},
     "output_type": "execute_result"
    }
   ],
   "source": [
    "train_half_as_test"
   ]
  },
  {
   "cell_type": "code",
   "execution_count": 12,
   "id": "bd69ee9a-e3d4-422f-bcf2-44d61c661f84",
   "metadata": {},
   "outputs": [
    {
     "data": {
      "text/plain": [
       "True"
      ]
     },
     "execution_count": 12,
     "metadata": {},
     "output_type": "execute_result"
    }
   ],
   "source": [
    "isinstance(subset_train, pd.DataFrame)"
   ]
  },
  {
   "cell_type": "markdown",
   "id": "d9985c7c-b70b-4488-9453-a1ddef46e55e",
   "metadata": {},
   "source": [
    "# Train"
   ]
  },
  {
   "cell_type": "code",
   "execution_count": 13,
   "id": "a6d6bad8-653e-4721-beee-8f2e6d2030f7",
   "metadata": {
    "scrolled": true
   },
   "outputs": [
    {
     "data": {
      "application/vnd.jupyter.widget-view+json": {
       "model_id": "e34a5fa51d1d417a8daec782b0facb23",
       "version_major": 2,
       "version_minor": 0
      },
      "text/plain": [
       "Map:   0%|          | 0/33674 [00:00<?, ? examples/s]"
      ]
     },
     "metadata": {},
     "output_type": "display_data"
    }
   ],
   "source": [
    "# Convert back to Huggingface Dataset\n",
    "subset_train = Dataset.from_pandas(subset_train)\n",
    "\n",
    "# Now tokenize the subset_train as before\n",
    "def tokenize_function(examples):\n",
    "    return tokenizer(examples[\"sentence\"], padding=\"max_length\", truncation=True)\n",
    "\n",
    "# Apply tokenization\n",
    "tokenized_subset = subset_train.map(tokenize_function, batched=True)\n",
    "tokenized_subset.set_format(type='torch', columns=['input_ids', 'attention_mask', 'label'])\n"
   ]
  },
  {
   "cell_type": "code",
   "execution_count": 14,
   "id": "b08db8ad-d523-4ea2-8ad3-a64c6bc7aae4",
   "metadata": {},
   "outputs": [
    {
     "data": {
      "text/plain": [
       "Dataset({\n",
       "    features: ['sentence', 'label', 'idx', '__index_level_0__'],\n",
       "    num_rows: 33674\n",
       "})"
      ]
     },
     "execution_count": 14,
     "metadata": {},
     "output_type": "execute_result"
    }
   ],
   "source": [
    "subset_train"
   ]
  },
  {
   "cell_type": "code",
   "execution_count": 15,
   "id": "ffc2389b-4ee4-4d69-9ae7-a9a5e06601ef",
   "metadata": {},
   "outputs": [
    {
     "name": "stdout",
     "output_type": "stream",
     "text": [
      "Class 0: 14890 samples\n",
      "Class 1: 18784 samples\n",
      "The dataset is balanced.\n"
     ]
    },
    {
     "data": {
      "image/png": "[encoded data removed]",
      "text/plain": [
       "<Figure size 500x300 with 1 Axes>"
      ]
     },
     "metadata": {},
     "output_type": "display_data"
    }
   ],
   "source": [
    "import numpy as np\n",
    "\n",
    "# Assuming y contains your labels\n",
    "class_distribution = np.bincount(tokenized_subset[\"label\"])\n",
    "num_classes = len(class_distribution)\n",
    "\n",
    "# Print class distribution\n",
    "for class_idx, count in enumerate(class_distribution):\n",
    "    print(f\"Class {class_idx}: {count} samples\")\n",
    "\n",
    "# Check if balanced\n",
    "min_samples = min(class_distribution)\n",
    "max_samples = max(class_distribution)\n",
    "if max_samples / min_samples < 2:\n",
    "    print(\"The dataset is balanced.\")\n",
    "else:\n",
    "    print(\"The dataset is imbalanced.\")\n",
    "import matplotlib.pyplot as plt\n",
    "\n",
    "# Assuming class_distribution contains the count of samples for each class\n",
    "class_labels = range(len(class_distribution))\n",
    "\n",
    "plt.figure(figsize=(5, 3))\n",
    "\n",
    "# Plot class distribution\n",
    "plt.bar(class_labels, class_distribution, color='skyblue')\n",
    "\n",
    "# Adding labels and title\n",
    "plt.xlabel('Class')\n",
    "plt.ylabel('Number of Samples')\n",
    "plt.title('Class Distribution')\n",
    "\n",
    "plt.xticks(class_labels)\n",
    "plt.grid(axis='y')\n",
    "\n",
    "plt.show()\n"
   ]
  },
  {
   "cell_type": "code",
   "execution_count": 14,
   "id": "96ae8003-0fb2-4327-84cc-c18ed6e1e7f4",
   "metadata": {},
   "outputs": [
    {
     "name": "stdout",
     "output_type": "stream",
     "text": [
      "Number of samples in train split: 67349\n",
      "Number of samples in validation split: 872\n",
      "Number of samples in test split: 1821\n"
     ]
    }
   ],
   "source": [
    "# Number of samples in each split\n",
    "print(f\"Number of samples in train split: {len(dataset['train'])}\")\n",
    "print(f\"Number of samples in validation split: {len(dataset['validation'])}\")\n",
    "print(f\"Number of samples in test split: {len(dataset['test'])}\")\n"
   ]
  },
  {
   "cell_type": "code",
   "execution_count": 15,
   "id": "116f1507-cd76-4f0f-b23e-98d970fb074a",
   "metadata": {},
   "outputs": [
    {
     "name": "stdout",
     "output_type": "stream",
     "text": [
      "Train split size: 11.82 MB\n",
      "Validation split size: 0.15 MB\n",
      "Test split size: 0.32 MB\n"
     ]
    }
   ],
   "source": [
    "import sys\n",
    "\n",
    "# Calculate memory size of a specific split\n",
    "def calculate_dataset_size(split):\n",
    "    total_size = sum(sys.getsizeof(example) for example in split)\n",
    "    return total_size\n",
    "\n",
    "# Calculate sizes for train, validation, and test splits\n",
    "train_size = calculate_dataset_size(dataset[\"train\"])\n",
    "validation_size = calculate_dataset_size(dataset[\"validation\"])\n",
    "test_size = calculate_dataset_size(dataset[\"test\"])\n",
    "\n",
    "# Convert sizes to MB\n",
    "train_size_mb = train_size / (1024 ** 2)\n",
    "validation_size_mb = validation_size / (1024 ** 2)\n",
    "test_size_mb = test_size / (1024 ** 2)\n",
    "\n",
    "print(f\"Train split size: {train_size_mb:.2f} MB\")\n",
    "print(f\"Validation split size: {validation_size_mb:.2f} MB\")\n",
    "print(f\"Test split size: {test_size_mb:.2f} MB\")\n"
   ]
  },
  {
   "cell_type": "markdown",
   "id": "25546822-be92-4ed3-824a-fbaa1282e2ed",
   "metadata": {},
   "source": [
    "### Step 3: Prepare the Dataset [Tokenizing]"
   ]
  },
  {
   "cell_type": "code",
   "execution_count": 16,
   "id": "42000c22-2691-4f5c-9787-fb983cf4c3d4",
   "metadata": {},
   "outputs": [],
   "source": [
    "# # Tokenize the dataset\n",
    "# def tokenize_function(examples):\n",
    "#     return tokenizer(examples[\"sentence\"], padding=\"max_length\", truncation=True)\n",
    "\n",
    "# # Apply tokenization to the dataset\n",
    "# tokenized_dataset = dataset.map(tokenize_function, batched=True)\n",
    "\n",
    "# # Prepare input tensors for training\n",
    "# train_dataset = tokenized_dataset[\"train\"]\n",
    "# train_dataset.set_format(type=\"torch\", columns=[\"input_ids\", \"attention_mask\", \"label\"])\n",
    "\n",
    "# # Example of fetching input tensors and labels\n",
    "# input_ids = train_dataset[:][\"input_ids\"]\n",
    "# attention_mask = train_dataset[:][\"attention_mask\"]\n",
    "# labels = train_dataset[:][\"label\"]\n",
    "\n",
    "# # Print dataset sample sizes\n",
    "# print(f\"Train dataset size: {len(train_dataset)}\")\n"
   ]
  },
  {
   "cell_type": "markdown",
   "id": "4a93db96-2487-499f-97f8-b78bfda1993f",
   "metadata": {},
   "source": [
    "## Step 4: Fine-Tune the BERT Model"
   ]
  },
  {
   "cell_type": "code",
   "execution_count": 16,
   "id": "909ec4f0-13a0-4928-b592-62e565df4ac9",
   "metadata": {},
   "outputs": [],
   "source": [
    "# Apply tokenization\n",
    "tokenized_validation = dataset['validation'].map(tokenize_function, batched=True)\n",
    "tokenized_validation.set_format(type='torch', columns=['input_ids', 'attention_mask', 'label'])"
   ]
  },
  {
   "cell_type": "code",
   "execution_count": 18,
   "id": "1b53b02e-06b0-4fd1-9854-81822093cd92",
   "metadata": {},
   "outputs": [
    {
     "data": {
      "application/vnd.jupyter.widget-view+json": {
       "model_id": "1883b0871e294027981527c299351a97",
       "version_major": 2,
       "version_minor": 0
      },
      "text/plain": [
       "Epoch 1:   0%|          | 0/527 [00:00<?, ?it/s]"
      ]
     },
     "metadata": {},
     "output_type": "display_data"
    },
    {
     "data": {
      "application/vnd.jupyter.widget-view+json": {
       "model_id": "6b2b72d1f231436b802d453f8875697f",
       "version_major": 2,
       "version_minor": 0
      },
      "text/plain": [
       "Validating:   0%|          | 0/14 [00:00<?, ?it/s]"
      ]
     },
     "metadata": {},
     "output_type": "display_data"
    },
    {
     "name": "stdout",
     "output_type": "stream",
     "text": [
      "Validation ----\n",
      "         Epoch 1, Loss: 0.2686, Accuracy: 0.8888, F1: 0.8887\n",
      "\n",
      "-----\n",
      "\n",
      "Epoch 1, Loss: 0.3419,     Accuracy: 0.8421, Precision: 0.8409, Recall: 0.8382, F1: 0.8393\n"
     ]
    },
    {
     "data": {
      "application/vnd.jupyter.widget-view+json": {
       "model_id": "c76dcbe8abf74d12957d5e41b3571296",
       "version_major": 2,
       "version_minor": 0
      },
      "text/plain": [
       "Epoch 2:   0%|          | 0/527 [00:00<?, ?it/s]"
      ]
     },
     "metadata": {},
     "output_type": "display_data"
    },
    {
     "data": {
      "application/vnd.jupyter.widget-view+json": {
       "model_id": "93e76920eeab42708cbc8bbe0d9042bb",
       "version_major": 2,
       "version_minor": 0
      },
      "text/plain": [
       "Validating:   0%|          | 0/14 [00:00<?, ?it/s]"
      ]
     },
     "metadata": {},
     "output_type": "display_data"
    },
    {
     "name": "stdout",
     "output_type": "stream",
     "text": [
      "Validation ----\n",
      "         Epoch 2, Loss: 0.3133, Accuracy: 0.8750, F1: 0.8739\n",
      "\n",
      "-----\n",
      "\n",
      "Epoch 2, Loss: 0.1855,     Accuracy: 0.9301, Precision: 0.9287, Recall: 0.9300, F1: 0.9293\n"
     ]
    },
    {
     "data": {
      "application/vnd.jupyter.widget-view+json": {
       "model_id": "20ec843321c346509067575d7885b163",
       "version_major": 2,
       "version_minor": 0
      },
      "text/plain": [
       "Epoch 3:   0%|          | 0/527 [00:00<?, ?it/s]"
      ]
     },
     "metadata": {},
     "output_type": "display_data"
    },
    {
     "data": {
      "application/vnd.jupyter.widget-view+json": {
       "model_id": "81a22ff39ae6415a8f38f41f78b605d0",
       "version_major": 2,
       "version_minor": 0
      },
      "text/plain": [
       "Validating:   0%|          | 0/14 [00:00<?, ?it/s]"
      ]
     },
     "metadata": {},
     "output_type": "display_data"
    },
    {
     "name": "stdout",
     "output_type": "stream",
     "text": [
      "Validation ----\n",
      "         Epoch 3, Loss: 0.3132, Accuracy: 0.8899, F1: 0.8895\n",
      "\n",
      "-----\n",
      "\n",
      "Epoch 3, Loss: 0.1294,     Accuracy: 0.9546, Precision: 0.9536, Recall: 0.9544, F1: 0.9540\n",
      "Training completed in 509.39 seconds\n"
     ]
    }
   ],
   "source": [
    "from torch.optim import AdamW\n",
    "from torch.cuda.amp import autocast, GradScaler\n",
    "from torch.utils.data import DataLoader\n",
    "from tqdm.notebook import tqdm\n",
    "from sklearn.metrics import accuracy_score, precision_score, recall_score, f1_score\n",
    "import time\n",
    "# Store losses for plotting\n",
    "losses = []\n",
    "all_accuracies = []\n",
    "all_f1_scores = []\n",
    "all_recalls = []\n",
    "all_precisions = []\n",
    "all_validation_loss = []\n",
    "num_epochs = 3\n",
    "# Define number of accumulation steps\n",
    "accumulation_steps = 4\n",
    "batch_size = 64\n",
    "# Create data loader\n",
    "train_dataloader = DataLoader(tokenized_subset, batch_size=batch_size, shuffle=True)\n",
    "\n",
    "METRICS_AVERAGE_METHOD=[\"None\", \"micro\", \"macro\", \"weighted\"]\n",
    "MAM = 2\n",
    "\n",
    "# Initialize optimizer and scaler (if using mixed precision)\n",
    "optimizer = torch.optim.AdamW(model.parameters(), lr=2e-5)\n",
    "scaler = GradScaler()\n",
    "\n",
    "# Record start time\n",
    "start_time = time.time()\n",
    "\n",
    "\n",
    "# data validation \n",
    "validation_dataloader = DataLoader(tokenized_validation, batch_size=batch_size, shuffle=False)\n",
    "\n",
    "\n",
    "# model.train()\n",
    "for epoch in range(num_epochs):  # Example of two epochs\n",
    "    epoch_loss = 0\n",
    "    optimizer.zero_grad()\n",
    "\n",
    "    # Initialize metric accumulators\n",
    "    all_preds = []\n",
    "    all_labels = []\n",
    "    \n",
    "    # Initialize the progress bar\n",
    "    progress_bar = tqdm(train_dataloader, desc=f\"Epoch {epoch + 1}\", mininterval=5)\n",
    "\n",
    "    model.train()\n",
    "    for i, batch in enumerate(progress_bar):\n",
    "        # Move batch to GPU\n",
    "        input_ids = batch['input_ids'].to(device)\n",
    "        attention_mask = batch['attention_mask'].to(device)\n",
    "        labels = batch['label'].to(device)\n",
    "        \n",
    "        # Forward pass with mixed precision (if applicable)\n",
    "        with autocast():\n",
    "            outputs = model(input_ids=input_ids, attention_mask=attention_mask, labels=labels)\n",
    "            loss = outputs.loss / accumulation_steps  # Normalize loss\n",
    "\n",
    "        # Backpropagate and accumulate gradients\n",
    "        scaler.scale(loss).backward() if scaler else loss.backward()\n",
    "\n",
    "        # Update weights after accumulating enough gradients\n",
    "        if (i + 1) % accumulation_steps == 0:\n",
    "            scaler.step(optimizer) if scaler else optimizer.step()\n",
    "            scaler.update() if scaler else None\n",
    "            optimizer.zero_grad()\n",
    "\n",
    "        # Track batch loss and update progress bar\n",
    "        batch_loss = loss.item() * accumulation_steps\n",
    "        epoch_loss += batch_loss\n",
    "        progress_bar.set_postfix(loss=batch_loss)\n",
    "\n",
    "        # Accumulate predictions and labels\n",
    "        preds = torch.argmax(outputs.logits, dim=1).cpu().numpy()\n",
    "        all_preds.extend(preds)\n",
    "        all_labels.extend(labels.cpu().numpy())\n",
    "\n",
    "\n",
    "\n",
    "    # VALIDATION ------------------------------------------------------------------\n",
    "    model.eval()  # Set the model to evaluation mode for validation\n",
    "    with torch.no_grad():  # Turn off gradients for validation\n",
    "        validation_loss = 0\n",
    "        validation_preds = []\n",
    "        validation_labels = []\n",
    "        \n",
    "        for batch in tqdm(validation_dataloader, desc=\"Validating\"):\n",
    "            # Validation code similar to training but without backpropagation\n",
    "            input_ids = batch['input_ids'].to(device)\n",
    "            attention_mask = batch['attention_mask'].to(device)\n",
    "            labels = batch['label'].to(device)\n",
    "\n",
    "            with autocast():\n",
    "                outputs = model(input_ids=input_ids, attention_mask=attention_mask, labels=labels)\n",
    "                loss = outputs.loss\n",
    "            \n",
    "            validation_loss += loss.item()\n",
    "            preds = torch.argmax(outputs.logits, dim=1).cpu().numpy()\n",
    "            validation_preds.extend(preds)\n",
    "            validation_labels.extend(labels.cpu().numpy())\n",
    "        \n",
    "        avg_validation_loss = validation_loss / len(validation_dataloader)\n",
    "        all_validation_loss.append(avg_validation_loss)\n",
    "        # all_validation_loss.append(validation_loss)\n",
    "        # Calculate validation metrics\n",
    "        valid_accuracy = accuracy_score(validation_labels, validation_preds)\n",
    "        valid_f1 = f1_score(validation_labels, validation_preds, average=METRICS_AVERAGE_METHOD[MAM])\n",
    "        print(f\"Validation ----\\n \\\n",
    "        Epoch {epoch + 1}, Loss: {avg_validation_loss:.4f}, Accuracy: {valid_accuracy:.4f}, F1: {valid_f1:.4f}\\n\\n-----\\n\")\n",
    "\n",
    "    # END VALIDATION -------------------------------------------\n",
    "    \n",
    "    # Calculate metrics for the epoch\n",
    "    avg_epoch_loss = epoch_loss / len(train_dataloader)\n",
    "    epoch_accuracy = accuracy_score(all_labels, all_preds)\n",
    "    epoch_f1 = f1_score(all_labels, all_preds, average=METRICS_AVERAGE_METHOD[MAM])\n",
    "    epoch_precision = precision_score(all_labels, all_preds, average=METRICS_AVERAGE_METHOD[MAM])\n",
    "    epoch_recall = recall_score(all_labels, all_preds, average=METRICS_AVERAGE_METHOD[MAM])  # Calculate recall for each class\n",
    "\n",
    "    # # Print precision\n",
    "    # print(f\"Precision = {precision:.4f}\")\n",
    "    losses.append(avg_epoch_loss)\n",
    "    all_accuracies.append(epoch_accuracy)\n",
    "    all_f1_scores.append(epoch_f1)\n",
    "    all_precisions.append(epoch_precision)\n",
    "    all_recalls.append(epoch_recall)\n",
    "    # Print metrics\n",
    "    print(f\"Epoch {epoch + 1}, Loss: {avg_epoch_loss:.4f}, \\\n",
    "    Accuracy: {epoch_accuracy:.4f}, Precision: {epoch_precision:.4f}, Recall: {epoch_recall:.4f}, F1: {epoch_f1:.4f}\")\n",
    "# Record end time\n",
    "end_time = time.time()\n",
    "\n",
    "# Calculate elapsed time\n",
    "elapsed_time = end_time - start_time\n",
    "print(f\"Training completed in {elapsed_time:.2f} seconds\")"
   ]
  },
  {
   "cell_type": "markdown",
   "id": "40f8c3ee-694b-4414-b124-0db4f22a2542",
   "metadata": {},
   "source": [
    "## Save the model and tokenizer"
   ]
  },
  {
   "cell_type": "code",
   "execution_count": 20,
   "id": "c92f8337-0d3b-4909-9e2a-1f8f9eb206fa",
   "metadata": {},
   "outputs": [
    {
     "name": "stdout",
     "output_type": "stream",
     "text": [
      "/home/REDACTED/bert-distillation-backdoor/jupyter/distillation\n"
     ]
    }
   ],
   "source": [
    "!pwd"
   ]
  },
  {
   "cell_type": "code",
   "execution_count": 30,
   "id": "aeb35ef4-a532-4f52-b078-bcdd79b38eea",
   "metadata": {},
   "outputs": [],
   "source": [
    "import os\n",
    "from datetime import datetime\n",
    "def save_the_model_tokenizer(model, tokenizer):\n",
    "    current_datetime = datetime.now().strftime(\"%m.%d-%H.%M.%S\")\n",
    "    \n",
    "    # convert datetime obj to string\n",
    "    str_model_name_datetime = str(model.config.name_or_path +\"--\"+ current_datetime)\n",
    "    print(str_model_name_datetime)\n",
    "    \n",
    "    # Save model to a file\n",
    "    model.save_pretrained(str_model_name_datetime)\n",
    "    print(\"model saved!\")\n",
    "    \n",
    "    # Check the size of the saved model\n",
    "    import os\n",
    "    model_size_disk = sum(\n",
    "        os.path.getsize(os.path.join(str_model_name_datetime, f)) for f in os.listdir(str_model_name_datetime)\n",
    "    )\n",
    "    #    os.path.getsize(os.path.join(\"bert_model\", f)) for f in os.listdir(str_model_name_datetime)\n",
    "    \n",
    "    model_size_disk_mb = model_size_disk / (1024 ** 2)\n",
    "    print(f\"Saved model size on disk: {model_size_disk_mb:.2f} MB\\n\\n\")\n",
    "    \n",
    "    print(tokenizer.save_pretrained(str_model_name_datetime))\n",
    "    return str_model_name_datetime"
   ]
  },
  {
   "cell_type": "code",
   "execution_count": 31,
   "id": "711678e0-c17b-48c6-8b6d-2ef27c8c63dc",
   "metadata": {},
   "outputs": [],
   "source": [
    "already_saved_plot = 0"
   ]
  },
  {
   "cell_type": "code",
   "execution_count": 33,
   "id": "18cea661-f764-491d-aa76-df0f271be2fc",
   "metadata": {},
   "outputs": [
    {
     "name": "stdout",
     "output_type": "stream",
     "text": [
      "distilbert-base-uncased--05.13-20.16.16\n",
      "model saved!\n",
      "Saved model size on disk: 255.43 MB\n",
      "\n",
      "\n",
      "('distilbert-base-uncased--05.13-20.16.16/tokenizer_config.json', 'distilbert-base-uncased--05.13-20.16.16/special_tokens_map.json', 'distilbert-base-uncased--05.13-20.16.16/vocab.txt', 'distilbert-base-uncased--05.13-20.16.16/added_tokens.json')\n"
     ]
    }
   ],
   "source": [
    "str_model_name_datetime = save_the_model_tokenizer(model, tokenizer)\n"
   ]
  },
  {
   "cell_type": "code",
   "execution_count": 28,
   "id": "b3d498b4-077d-4ed3-b8f9-1e6f323b40aa",
   "metadata": {},
   "outputs": [
    {
     "name": "stdout",
     "output_type": "stream",
     "text": [
      "/home/REDACTED/bert-distillation-backdoor/jupyter/distillation\n"
     ]
    }
   ],
   "source": [
    "!pwd"
   ]
  },
  {
   "cell_type": "code",
   "execution_count": 35,
   "id": "dac987f3-ebc5-4a42-8f30-7e0cde240ff0",
   "metadata": {},
   "outputs": [
    {
     "name": "stdout",
     "output_type": "stream",
     "text": [
      "Confusion Matrix:\n",
      "[[14188   702]\n",
      " [  828 17956]]\n"
     ]
    },
    {
     "data": {
      "image/png": "[encoded data removed]",
      "text/plain": [
       "<Figure size 640x480 with 2 Axes>"
      ]
     },
     "metadata": {},
     "output_type": "display_data"
    }
   ],
   "source": [
    "\n",
    "# Assuming all_labels and all_preds contain the true labels and predicted labels for each sample\n",
    "conf_matrix = confusion_matrix(all_labels, all_preds)\n",
    "\n",
    "print(\"Confusion Matrix:\")\n",
    "print(conf_matrix)\n",
    "# Plotting the confusion matrix as a table\n",
    "fig, ax = plt.subplots()\n",
    "cax = ax.matshow(conf_matrix, cmap=plt.cm.Blues)\n",
    "\n",
    "# Add color bar\n",
    "fig.colorbar(cax)\n",
    "\n",
    "# Add labels\n",
    "plt.xlabel('Predicted')\n",
    "plt.ylabel('True')\n",
    "\n",
    "# Add annotations\n",
    "for i in range(conf_matrix.shape[0]):\n",
    "    for j in range(conf_matrix.shape[1]):\n",
    "        plt.text(j, i, str(conf_matrix[i, j]), ha='center', va='center')\n",
    "\n",
    "# Add class labels\n",
    "plt.xticks(range(conf_matrix.shape[1]))\n",
    "plt.yticks(range(conf_matrix.shape[0]))\n",
    "\n",
    "plt.show()\n"
   ]
  },
  {
   "cell_type": "code",
   "execution_count": 36,
   "id": "13e06b50-ce6a-462a-84bb-9881f7d1789b",
   "metadata": {},
   "outputs": [
    {
     "data": {
      "text/plain": [
       "[0.34193934022362366, 0.1854552990232066, 0.1293535742350276]"
      ]
     },
     "execution_count": 36,
     "metadata": {},
     "output_type": "execute_result"
    }
   ],
   "source": [
    "losses"
   ]
  },
  {
   "cell_type": "code",
   "execution_count": 37,
   "id": "0c19c29b-7351-42fd-b6eb-84363cac4515",
   "metadata": {},
   "outputs": [],
   "source": [
    "# from torch.utils.data import DataLoader\n",
    "# import time\n",
    "# # Create optimizer\n",
    "# optimizer = AdamW(model.parameters(), lr=5e-5)\n",
    "\n",
    "# # Create data loader\n",
    "# # train_dataloader = DataLoader(train_dataset, batch_size=16, shuffle=True)\n",
    "\n",
    "\n",
    "# # Store losses for plotting\n",
    "# losses = []\n",
    "\n",
    "# # Record start time\n",
    "# start_time = time.time()\n",
    "\n",
    "# # Train the model\n",
    "# model.train()\n",
    "# for epoch in range(2):  # Example of two epochs\n",
    "#     epoch_loss = 0\n",
    "#     for batch in train_dataloader:\n",
    "#         # Move batch to GPU\n",
    "#         input_ids = batch['input_ids'].to(device)\n",
    "#         attention_mask = batch['attention_mask'].to(device)\n",
    "#         labels = batch['label'].to(device)  # Note that the correct key should be 'labels'\n",
    "\n",
    "#         optimizer.zero_grad()\n",
    "#         outputs = model(input_ids=input_ids, attention_mask=attention_mask, labels=labels)\n",
    "#         loss = outputs.loss\n",
    "#         loss.backward()\n",
    "#         optimizer.step()\n",
    "#         epoch_loss += loss.item()\n",
    "\n",
    "#     avg_epoch_loss = epoch_loss / len(train_dataloader)\n",
    "#     losses.append(avg_epoch_loss)\n",
    "#     print(f\"Epoch {epoch + 1}, Loss: {avg_epoch_loss:.4f}\")\n",
    "\n",
    "# # Record end time\n",
    "# end_time = time.time()\n",
    "\n",
    "# # Calculate elapsed time\n",
    "# elapsed_time = end_time - start_time\n",
    "# print(f\"Training completed in {elapsed_time:.2f} seconds\")"
   ]
  },
  {
   "cell_type": "code",
   "execution_count": 38,
   "id": "36bae966-bc93-430e-a404-fc3e339cd4f5",
   "metadata": {},
   "outputs": [
    {
     "data": {
      "image/png": "[encoded data removed]",
      "text/plain": [
       "<Figure size 1000x600 with 1 Axes>"
      ]
     },
     "metadata": {},
     "output_type": "display_data"
    }
   ],
   "source": [
    "import matplotlib.pyplot as plt\n",
    "\n",
    "# Assuming losses, accuracies, and f1_scores contain the values for each epoch\n",
    "epochs = range(1, len(losses) + 1)\n",
    "\n",
    "plt.figure(figsize=(10, 6))\n",
    "\n",
    "# Plot loss\n",
    "plt.plot(epochs, losses, label=\"Loss\", marker='o', linestyle='-')\n",
    "\n",
    "# Plot accuracy\n",
    "plt.plot(epochs, all_accuracies, label=\"Accuracy\", marker='s', linestyle='-')\n",
    "\n",
    "# Plot F1 score\n",
    "plt.plot(epochs, all_f1_scores, label=\"F1 Score\", marker='^', linestyle='-')\n",
    "\n",
    "plt.plot(epochs, all_validation_loss, label='Validation Loss', marker='x')\n",
    "\n",
    "# Adding labels and title\n",
    "plt.xlabel('Epochs')\n",
    "plt.ylabel('Metrics')\n",
    "plt.title('Training Metrics Over Epochs')\n",
    "plt.legend()\n",
    "plt.grid(True)\n",
    "# Set x-axis ticks to natural numbers\n",
    "plt.xticks(range(1, len(losses) + 1))\n",
    "if not already_saved_plot:\n",
    "    plt.savefig(str_model_name_datetime+\"/\"+str_model_name_datetime+\".jpg\")\n",
    "    already_saved_plot = 1\n",
    "    \n",
    "plt.show()\n"
   ]
  },
  {
   "cell_type": "markdown",
   "id": "d8388dd3-0e80-4e8a-a95b-7d9e8da1996c",
   "metadata": {},
   "source": [
    "# Distillation"
   ]
  },
  {
   "cell_type": "markdown",
   "id": "72d17dca-9d7a-49da-a19f-27da8fda9bdf",
   "metadata": {},
   "source": [
    "## Define the student"
   ]
  },
  {
   "cell_type": "code",
   "execution_count": 45,
   "id": "907f50a7-bd4c-4a5f-b86a-c8e0010d5a12",
   "metadata": {},
   "outputs": [],
   "source": [
    "from transformers import DistilBertConfig, DistilBertForSequenceClassification\n",
    "\n",
    "# Define a smaller model configuration\n",
    "student_config = DistilBertConfig.from_pretrained(\"distilbert-base-uncased\")\n",
    "student_config.num_hidden_layers = 3  # Reduce the number of layers\n",
    "\n",
    "# Create the student model with the new configuration\n",
    "student_model = DistilBertForSequenceClassification(student_config)\n"
   ]
  },
  {
   "cell_type": "code",
   "execution_count": 46,
   "id": "cbe62241-7291-451f-8d9d-96f59fd95a08",
   "metadata": {},
   "outputs": [
    {
     "data": {
      "text/plain": [
       "DistilBertConfig {\n",
       "  \"activation\": \"gelu\",\n",
       "  \"architectures\": [\n",
       "    \"DistilBertForMaskedLM\"\n",
       "  ],\n",
       "  \"attention_dropout\": 0.1,\n",
       "  \"dim\": 768,\n",
       "  \"dropout\": 0.1,\n",
       "  \"hidden_dim\": 3072,\n",
       "  \"initializer_range\": 0.02,\n",
       "  \"max_position_embeddings\": 512,\n",
       "  \"model_type\": \"distilbert\",\n",
       "  \"n_heads\": 12,\n",
       "  \"n_layers\": 3,\n",
       "  \"pad_token_id\": 0,\n",
       "  \"qa_dropout\": 0.1,\n",
       "  \"seq_classif_dropout\": 0.2,\n",
       "  \"sinusoidal_pos_embds\": false,\n",
       "  \"tie_weights_\": true,\n",
       "  \"transformers_version\": \"4.40.1\",\n",
       "  \"vocab_size\": 30522\n",
       "}"
      ]
     },
     "execution_count": 46,
     "metadata": {},
     "output_type": "execute_result"
    }
   ],
   "source": [
    "student_config"
   ]
  },
  {
   "cell_type": "code",
   "execution_count": 47,
   "id": "3b96b341-f4c8-473e-a79d-420772d67a14",
   "metadata": {},
   "outputs": [
    {
     "name": "stdout",
     "output_type": "stream",
     "text": [
      "Total parameters: 45,691,394\n",
      "Trainable parameters: 45,691,394\n",
      "Estimated model size: 174.30 MB\n"
     ]
    }
   ],
   "source": [
    "print_model_info(student_model)"
   ]
  },
  {
   "cell_type": "markdown",
   "id": "f8765765-66b7-4fa5-b9a2-412402544ee1",
   "metadata": {},
   "source": [
    "## Copy Layers from the Larger Model"
   ]
  },
  {
   "cell_type": "code",
   "execution_count": 56,
   "id": "9b35de2c-875a-4853-aa5d-c2b8b362297c",
   "metadata": {},
   "outputs": [
    {
     "data": {
      "text/plain": [
       "DistilBertModel(\n",
       "  (embeddings): Embeddings(\n",
       "    (word_embeddings): Embedding(30522, 768, padding_idx=0)\n",
       "    (position_embeddings): Embedding(512, 768)\n",
       "    (LayerNorm): LayerNorm((768,), eps=1e-12, elementwise_affine=True)\n",
       "    (dropout): Dropout(p=0.1, inplace=False)\n",
       "  )\n",
       "  (transformer): Transformer(\n",
       "    (layer): ModuleList(\n",
       "      (0-2): 3 x TransformerBlock(\n",
       "        (attention): MultiHeadSelfAttention(\n",
       "          (dropout): Dropout(p=0.1, inplace=False)\n",
       "          (q_lin): Linear(in_features=768, out_features=768, bias=True)\n",
       "          (k_lin): Linear(in_features=768, out_features=768, bias=True)\n",
       "          (v_lin): Linear(in_features=768, out_features=768, bias=True)\n",
       "          (out_lin): Linear(in_features=768, out_features=768, bias=True)\n",
       "        )\n",
       "        (sa_layer_norm): LayerNorm((768,), eps=1e-12, elementwise_affine=True)\n",
       "        (ffn): FFN(\n",
       "          (dropout): Dropout(p=0.1, inplace=False)\n",
       "          (lin1): Linear(in_features=768, out_features=3072, bias=True)\n",
       "          (lin2): Linear(in_features=3072, out_features=768, bias=True)\n",
       "          (activation): GELUActivation()\n",
       "        )\n",
       "        (output_layer_norm): LayerNorm((768,), eps=1e-12, elementwise_affine=True)\n",
       "      )\n",
       "    )\n",
       "  )\n",
       ")"
      ]
     },
     "execution_count": 56,
     "metadata": {},
     "output_type": "execute_result"
    }
   ],
   "source": [
    "student_model.distilbert"
   ]
  },
  {
   "cell_type": "code",
   "execution_count": 58,
   "id": "f87232dc-33e7-45fe-bc39-24a109271bf0",
   "metadata": {},
   "outputs": [],
   "source": [
    "# Copy embeddings\n",
    "student_model.distilbert.embeddings = model.distilbert.embeddings\n",
    "\n",
    "# Copy selected transformer layers\n",
    "for student_layer, teacher_layer in zip(student_model.distilbert.transformer.layer, model.distilbert.transformer.layer[:student_config.num_hidden_layers]):\n",
    "    student_layer.load_state_dict(teacher_layer.state_dict())\n"
   ]
  },
  {
   "cell_type": "code",
   "execution_count": 60,
   "id": "46e9f888-c3dc-4583-9cfa-1c30acf1c00a",
   "metadata": {},
   "outputs": [],
   "source": [
    "batch_size =16\n",
    "train_dataloader = DataLoader(tokenized_subset, batch_size=batch_size, shuffle=True)\n",
    "validation_dataloader = DataLoader(tokenized_validation, batch_size=batch_size, shuffle=False)"
   ]
  },
  {
   "cell_type": "code",
   "execution_count": 61,
   "id": "79ff0384-297e-4b08-be0b-aa224761c386",
   "metadata": {},
   "outputs": [
    {
     "data": {
      "application/vnd.jupyter.widget-view+json": {
       "model_id": "1d0df62d469e45a6bdc6def4e946813b",
       "version_major": 2,
       "version_minor": 0
      },
      "text/plain": [
       "Training Epoch 1:   0%|          | 0/2105 [00:00<?, ?it/s]"
      ]
     },
     "metadata": {},
     "output_type": "display_data"
    },
    {
     "data": {
      "application/vnd.jupyter.widget-view+json": {
       "model_id": "85c1aaf2a19c4c91a16539e54577896f",
       "version_major": 2,
       "version_minor": 0
      },
      "text/plain": [
       "Validation Epoch 1:   0%|          | 0/55 [00:00<?, ?it/s]"
      ]
     },
     "metadata": {},
     "output_type": "display_data"
    },
    {
     "name": "stdout",
     "output_type": "stream",
     "text": [
      "Epoch 1: Training Loss = 0.3328, Validation Loss = 0.3984\n"
     ]
    },
    {
     "data": {
      "application/vnd.jupyter.widget-view+json": {
       "model_id": "072d7ee8c1e94dfebb50c1a67f1a24ce",
       "version_major": 2,
       "version_minor": 0
      },
      "text/plain": [
       "Training Epoch 2:   0%|          | 0/2105 [00:00<?, ?it/s]"
      ]
     },
     "metadata": {},
     "output_type": "display_data"
    },
    {
     "data": {
      "application/vnd.jupyter.widget-view+json": {
       "model_id": "10e5fb5160574b618019d1a3f2e3eb3c",
       "version_major": 2,
       "version_minor": 0
      },
      "text/plain": [
       "Validation Epoch 2:   0%|          | 0/55 [00:00<?, ?it/s]"
      ]
     },
     "metadata": {},
     "output_type": "display_data"
    },
    {
     "name": "stdout",
     "output_type": "stream",
     "text": [
      "Epoch 2: Training Loss = 0.1535, Validation Loss = 0.3470\n"
     ]
    }
   ],
   "source": [
    "from torch.nn import KLDivLoss, CrossEntropyLoss\n",
    "import torch\n",
    "\n",
    "\n",
    "alpha = 0.5\n",
    "all_loss_distil, all_val_loss_distil = []\n",
    "# Loss functions\n",
    "distillation_loss_function = KLDivLoss(reduction='batchmean')\n",
    "task_loss_function = CrossEntropyLoss()\n",
    "\n",
    "optimizer = torch.optim.Adam(student_model.parameters(), lr=5e-5)\n",
    "temperature = 2.0\n",
    "\n",
    "for epoch in range(2):\n",
    "    # Training phase\n",
    "    student_model.train()\n",
    "    epoch_train_loss = 0\n",
    "    for batch in tqdm(train_dataloader, desc=f\"Training Epoch {epoch+1}\"):\n",
    "        input_ids = batch['input_ids'].to(device)\n",
    "        attention_mask = batch['attention_mask'].to(device)\n",
    "        labels = batch['label'].to(device)\n",
    "\n",
    "        with torch.no_grad():\n",
    "            teacher_logits = model(input_ids=input_ids, attention_mask=attention_mask).logits\n",
    "\n",
    "        student_outputs = student_model(input_ids=input_ids, attention_mask=attention_mask)\n",
    "        student_logits = student_outputs.logits\n",
    "\n",
    "        distillation_loss = distillation_loss_function(\n",
    "            torch.log_softmax(student_logits / temperature, dim=-1),\n",
    "            torch.softmax(teacher_logits / temperature, dim=-1)\n",
    "        )\n",
    "\n",
    "                # Optional: combine with classic loss, e.g., cross-entropy\n",
    "        # -------------------------------------------------------------------------------------------------\n",
    "        # loss = distillation_loss  # This is where I can modify according to my loss combination strategy\n",
    "\n",
    "        \n",
    "        task_loss = task_loss_function(student_logits, labels)\n",
    "        loss = alpha * distillation_loss + (1-alpha) * task_loss\n",
    "\n",
    "        optimizer.zero_grad()\n",
    "        loss.backward()\n",
    "        optimizer.step()\n",
    "\n",
    "        epoch_train_loss += loss.item()\n",
    "\n",
    "    # Validation phase\n",
    "    student_model.eval()\n",
    "    epoch_val_loss = 0\n",
    "    with torch.no_grad():\n",
    "        for batch in tqdm(validation_dataloader, desc=f\"Validation Epoch {epoch+1}\"):\n",
    "            input_ids = batch['input_ids'].to(device)\n",
    "            attention_mask = batch['attention_mask'].to(device)\n",
    "            labels = batch['label'].to(device)\n",
    "\n",
    "            student_outputs = student_model(input_ids=input_ids, attention_mask=attention_mask)\n",
    "            student_logits = student_outputs.logits\n",
    "            task_loss = task_loss_function(student_logits, labels)\n",
    "            \n",
    "            epoch_val_loss += task_loss.item()\n",
    "\n",
    "    # Log the average losses\n",
    "    train_loss = epoch_train_loss / len(train_dataloader)\n",
    "    val_loss = epoch_val_loss / len(validation_dataloader)\n",
    "    all_loss_distil.append(train_loss)\n",
    "    all_val_loss_distil.append(val_loss)\n",
    "    print(f\"Epoch {epoch + 1}: Training Loss = {train_loss:.4f}, Validation Loss = {val_loss:.4f}\")\n"
   ]
  },
  {
   "cell_type": "code",
   "execution_count": 70,
   "id": "7eadf649-e0a9-414e-9539-398adb9ee11a",
   "metadata": {},
   "outputs": [
    {
     "data": {
      "image/png": "[encoded data removed]",
      "text/plain": [
       "<Figure size 1000x600 with 1 Axes>"
      ]
     },
     "metadata": {},
     "output_type": "display_data"
    }
   ],
   "source": [
    "losses_ = [0.3328, 0.1535]\n",
    "val_ = [0.3984, 0.3470]\n",
    "plot_loss(losses_, val_)"
   ]
  },
  {
   "cell_type": "markdown",
   "id": "211ec0e2-6551-494b-822b-5e118eb8e7f0",
   "metadata": {},
   "source": [
    "#### Distill without train loss and validation"
   ]
  },
  {
   "cell_type": "code",
   "execution_count": 62,
   "id": "21c875c9-793a-4b08-8e29-e0f31dd51091",
   "metadata": {},
   "outputs": [
    {
     "data": {
      "application/vnd.jupyter.widget-view+json": {
       "model_id": "",
       "version_major": 2,
       "version_minor": 0
      },
      "text/plain": [
       "Epoch 1:   0%|          | 0/2105 [00:00<?, ?it/s]"
      ]
     },
     "metadata": {},
     "output_type": "display_data"
    },
    {
     "name": "stdout",
     "output_type": "stream",
     "text": [
      "Epoch 1 finished with average loss: 4.5853\n"
     ]
    },
    {
     "data": {
      "application/vnd.jupyter.widget-view+json": {
       "model_id": "",
       "version_major": 2,
       "version_minor": 0
      },
      "text/plain": [
       "Epoch 2:   0%|          | 0/2105 [00:00<?, ?it/s]"
      ]
     },
     "metadata": {},
     "output_type": "display_data"
    },
    {
     "name": "stdout",
     "output_type": "stream",
     "text": [
      "Epoch 2 finished with average loss: 4.5833\n"
     ]
    },
    {
     "data": {
      "application/vnd.jupyter.widget-view+json": {
       "model_id": "",
       "version_major": 2,
       "version_minor": 0
      },
      "text/plain": [
       "Epoch 3:   0%|          | 0/2105 [00:00<?, ?it/s]"
      ]
     },
     "metadata": {},
     "output_type": "display_data"
    },
    {
     "name": "stdout",
     "output_type": "stream",
     "text": [
      "Epoch 3 finished with average loss: 4.5841\n"
     ]
    },
    {
     "data": {
      "application/vnd.jupyter.widget-view+json": {
       "model_id": "",
       "version_major": 2,
       "version_minor": 0
      },
      "text/plain": [
       "Epoch 4:   0%|          | 0/2105 [00:00<?, ?it/s]"
      ]
     },
     "metadata": {},
     "output_type": "display_data"
    },
    {
     "name": "stdout",
     "output_type": "stream",
     "text": [
      "Epoch 4 finished with average loss: 4.5834\n"
     ]
    },
    {
     "data": {
      "application/vnd.jupyter.widget-view+json": {
       "model_id": "",
       "version_major": 2,
       "version_minor": 0
      },
      "text/plain": [
       "Epoch 5:   0%|          | 0/2105 [00:00<?, ?it/s]"
      ]
     },
     "metadata": {},
     "output_type": "display_data"
    },
    {
     "name": "stdout",
     "output_type": "stream",
     "text": [
      "Epoch 5 finished with average loss: 4.5816\n"
     ]
    },
    {
     "data": {
      "application/vnd.jupyter.widget-view+json": {
       "model_id": "",
       "version_major": 2,
       "version_minor": 0
      },
      "text/plain": [
       "Epoch 6:   0%|          | 0/2105 [00:00<?, ?it/s]"
      ]
     },
     "metadata": {},
     "output_type": "display_data"
    },
    {
     "name": "stdout",
     "output_type": "stream",
     "text": [
      "Epoch 6 finished with average loss: 4.5824\n"
     ]
    },
    {
     "data": {
      "application/vnd.jupyter.widget-view+json": {
       "model_id": "",
       "version_major": 2,
       "version_minor": 0
      },
      "text/plain": [
       "Epoch 7:   0%|          | 0/2105 [00:00<?, ?it/s]"
      ]
     },
     "metadata": {},
     "output_type": "display_data"
    },
    {
     "name": "stdout",
     "output_type": "stream",
     "text": [
      "Epoch 7 finished with average loss: 4.5809\n"
     ]
    }
   ],
   "source": [
    "from torch.nn import KLDivLoss\n",
    "import torch\n",
    "\n",
    "# Loss function for distillation\n",
    "distillation_loss_function = KLDivLoss(reduction='batchmean', log_target=True)\n",
    "\n",
    "# Set the student model to training mode and teacher model to evaluation mode\n",
    "student_model.to(device)\n",
    "student_model.train()\n",
    "model.to(device)\n",
    "model.eval()\n",
    "\n",
    "# Prepare optimizer\n",
    "optimizer = torch.optim.Adam(student_model.parameters(), lr=1e-4)\n",
    "\n",
    "# Training loop with tqdm progress bar\n",
    "for epoch in range(7):\n",
    "    epoch_loss = 0\n",
    "    progress_bar = tqdm(train_dataloader, desc=f\"Epoch {epoch+1}\", leave=False)\n",
    "    for batch in progress_bar:\n",
    "        input_ids = batch['input_ids'].to(device)\n",
    "        attention_mask = batch['attention_mask'].to(device)\n",
    "\n",
    "        # Teacher model outputs\n",
    "        with torch.no_grad():\n",
    "            teacher_logits = model(input_ids=input_ids, attention_mask=attention_mask).logits\n",
    "\n",
    "        # Student model outputs\n",
    "        student_outputs = student_model(input_ids=input_ids, attention_mask=attention_mask)\n",
    "        student_logits = student_outputs.logits\n",
    "\n",
    "        # Distillation loss calculation\n",
    "        distillation_loss = distillation_loss_function(\n",
    "            torch.log_softmax(student_logits / 2, dim=-1),\n",
    "            torch.softmax(teacher_logits / 2, dim=-1)\n",
    "        )\n",
    "\n",
    "        # Optional: combine with classic loss, e.g., cross-entropy\n",
    "        # -------------------------------------------------------------------------------------------------\n",
    "        loss = distillation_loss  # This is where I can modify according to my loss combination strategy\n",
    "\n",
    "        \n",
    "        # Loss update\n",
    "        optimizer.zero_grad()\n",
    "        distillation_loss.backward()\n",
    "        optimizer.step()\n",
    "\n",
    "        # Update the progress bar\n",
    "        epoch_loss += distillation_loss.item()\n",
    "        progress_bar.set_postfix({'loss': distillation_loss.item()})\n",
    "\n",
    "    # Close the progress bar and display results\n",
    "    progress_bar.close()\n",
    "    print(f\"Epoch {epoch + 1} finished with average loss: {epoch_loss / len(train_dataloader):.4f}\")\n"
   ]
  },
  {
   "cell_type": "markdown",
   "id": "1c3f91fe-35bf-4594-b32e-2d27f519d44a",
   "metadata": {},
   "source": [
    "### fine tune it"
   ]
  },
  {
   "cell_type": "code",
   "execution_count": null,
   "id": "ff5d13ca-b151-4a78-9567-ba31f8ce42c2",
   "metadata": {},
   "outputs": [],
   "source": [
    "# Move the smaller model to the GPU\n",
    "small_bert_model.to(device)\n",
    "\n",
    "# Train the smaller model\n",
    "small_bert_model.train()\n",
    "small_model_losses = []\n",
    "\n",
    "for epoch in range(2):  # Example of two epochs\n",
    "    epoch_loss = 0\n",
    "    for batch in train_dataloader:\n",
    "        # Move batch to GPU\n",
    "        input_ids = batch['input_ids'].to(device)\n",
    "        attention_mask = batch['attention_mask'].to(device)\n",
    "        labels = batch['label'].to(device)\n",
    "\n",
    "        optimizer.zero_grad()\n",
    "        outputs = small_bert_model(input_ids=input_ids, attention_mask=attention_mask, labels=labels)\n",
    "        loss = outputs.loss\n",
    "        loss.backward()\n",
    "        optimizer.step()\n",
    "        epoch_loss += loss.item()\n",
    "\n",
    "    avg_epoch_loss = epoch_loss / len(train_dataloader)\n",
    "    small_model_losses.append(avg_epoch_loss)\n",
    "    print(f\"Epoch {epoch + 1}, Loss: {avg_epoch_loss:.4f}\")\n"
   ]
  },
  {
   "cell_type": "code",
   "execution_count": null,
   "id": "8e3986e7-53eb-4070-93c7-6bf528297f31",
   "metadata": {},
   "outputs": [],
   "source": []
  },
  {
   "cell_type": "code",
   "execution_count": null,
   "id": "cb868173-2495-4fb1-bcae-8d4cfe7856d5",
   "metadata": {},
   "outputs": [],
   "source": []
  },
  {
   "cell_type": "markdown",
   "id": "9ac8a019-5ada-4318-9b82-8ee20d879888",
   "metadata": {},
   "source": [
    "# Evaluate the model"
   ]
  },
  {
   "cell_type": "code",
   "execution_count": null,
   "id": "51666234-8134-49b3-96e5-8e72bbe8cd92",
   "metadata": {},
   "outputs": [],
   "source": [
    "str_model_name_datetime"
   ]
  },
  {
   "cell_type": "code",
   "execution_count": null,
   "id": "e5169b06-03f8-4504-b6f6-c4df641b83ec",
   "metadata": {},
   "outputs": [],
   "source": [
    "import torch\n",
    "from transformers import BertForSequenceClassification\n",
    "\n",
    "# Load the trained model\n",
    "model = DistilBertForSequenceClassification.from_pretrained(str_model_name_datetime)\n",
    "model.eval()  # Set to evaluation mode\n"
   ]
  },
  {
   "cell_type": "code",
   "execution_count": null,
   "id": "5cc84d28-e7ba-4e79-9c55-f36f0ca8f852",
   "metadata": {},
   "outputs": [],
   "source": [
    "str_model_name_datetime"
   ]
  },
  {
   "cell_type": "code",
   "execution_count": null,
   "id": "4b2a63c4-c0f9-4f62-a797-f273b41f52ac",
   "metadata": {},
   "outputs": [],
   "source": [
    "# from sklearn.model_selection import train_test_split\n",
    "# from datasets import load_dataset, Dataset\n",
    "# # Convert the dataset to a pandas DataFrame\n",
    "# import pandas as pd\n",
    "# test_dicts = []\n",
    "# for example in dataset[\"validation\"]:\n",
    "#     test_dicts.append({k: v for k, v in example.items()})\n",
    "# train_half_as_test\n",
    "# test_df = pd.DataFrame(test_dicts)\n",
    "test_data = Dataset.from_pandas(train_half_as_test)"
   ]
  },
  {
   "cell_type": "code",
   "execution_count": null,
   "id": "3cbc7e3d-8adb-46e3-accf-8665129f67a3",
   "metadata": {},
   "outputs": [],
   "source": [
    "test_data"
   ]
  },
  {
   "cell_type": "code",
   "execution_count": null,
   "id": "509cc99e-4e96-4b4c-815d-32ca9ac08cef",
   "metadata": {},
   "outputs": [],
   "source": [
    "# test_data[0]"
   ]
  },
  {
   "cell_type": "code",
   "execution_count": null,
   "id": "af2c4cf5-3411-4639-9d03-c1fd195315b6",
   "metadata": {},
   "outputs": [],
   "source": [
    "from datasets import load_dataset\n",
    "from sklearn.model_selection import StratifiedKFold\n",
    "from transformers import BertTokenizer\n",
    "import numpy as np\n",
    "\n",
    "# Load the SST-2 dataset\n",
    "# dataset = load_dataset(\"glue\", \"sst2\", split='train')\n",
    "\n",
    "# # Tokenize the data\n",
    "# tokenizer = DistilBertTokenizer.from_pretrained(str_model_name_datetime)\n",
    "# def tokenize(sentences):\n",
    "#     return tokenizer(sentences, padding=\"max_length\", truncation=True, return_tensors=\"pt\")\n",
    "\n",
    "\n",
    "sentences = [entry['sentence'] for entry in test_data]\n",
    "labels = [entry['label'] for entry in test_data]\n",
    "X = np.array(sentences)\n",
    "y = np.array(labels)\n"
   ]
  },
  {
   "cell_type": "code",
   "execution_count": null,
   "id": "652a29a1-32ad-4e2a-bbd8-0bf46110f0ad",
   "metadata": {},
   "outputs": [],
   "source": [
    "def evaluate_model(model, tokenizer):\n",
    "    model.to(device)\n",
    "    \n",
    "    # Set up stratified cross-validation\n",
    "    n_splits = 5  # Number of folds\n",
    "    skf = StratifiedKFold(n_splits=n_splits, shuffle=True, random_state=42)\n",
    "    \n",
    "    from sklearn.metrics import accuracy_score, f1_score, recall_score\n",
    "    \n",
    "    # Initialize metric accumulators\n",
    "    all_accuracies = []\n",
    "    all_f1_scores = []\n",
    "    all_recalls = []\n",
    "    all_precisions = []\n",
    "    \n",
    "    \n",
    "    METRICS_AVERAGE_METHOD=[\"None\", \"micro\", \"macro\", \"weighted\"]\n",
    "    MAM = 2\n",
    "    \n",
    "    \n",
    "    # Perform evaluation for each fold\n",
    "    for fold_idx, (train_idx, val_idx) in enumerate(skf.split(X, y)):\n",
    "        print(f\"Evaluating fold {fold_idx + 1}/{n_splits}\")\n",
    "    \n",
    "        val_texts = X[val_idx]\n",
    "        val_labels = torch.tensor(y[val_idx]).to(device)  # Move labels to CUDA\n",
    "    \n",
    "        # tokenizer = DistilBertTokenizer.from_pretrained(str_model_name_datetime)\n",
    "        val_encodings = tokenizer(val_texts.tolist(), padding=\"max_length\", truncation=True, return_tensors=\"pt\")\n",
    "        val_encodings = {key: tensor.to(device) for key, tensor in val_encodings.items()}  # Move tensors to CUDA\n",
    "    \n",
    "        val_dataset = torch.utils.data.TensorDataset(val_encodings['input_ids'], val_encodings['attention_mask'], val_labels)\n",
    "        val_dataloader = torch.utils.data.DataLoader(val_dataset, batch_size=16)\n",
    "    \n",
    "        all_preds, all_labels = [], []\n",
    "        with torch.no_grad():\n",
    "            for input_ids, attention_mask, labels in val_dataloader:\n",
    "                input_ids, attention_mask, labels = input_ids.to(device), attention_mask.to(device), labels.to(device)  # Move input tensors to CUDA\n",
    "                outputs = model(input_ids=input_ids, attention_mask=attention_mask)\n",
    "                preds = torch.argmax(outputs.logits, dim=1)\n",
    "                all_preds.extend(preds.cpu().numpy())  # Move predictions back to CPU\n",
    "                all_labels.extend(labels.cpu().numpy())  # Move labels back to CPU\n",
    "    \n",
    "        # Calculate and store metrics\n",
    "        acc = accuracy_score(all_labels, all_preds)\n",
    "        f1 = f1_score(all_labels, all_preds, average=METRICS_AVERAGE_METHOD[MAM])\n",
    "        recall = recall_score(all_labels, all_preds, average=METRICS_AVERAGE_METHOD[MAM])  # Calculate recall for each class\n",
    "        precision = precision_score(all_labels, all_preds, average=METRICS_AVERAGE_METHOD[MAM])\n",
    "        all_accuracies.append(acc)\n",
    "        all_f1_scores.append(f1)\n",
    "        all_recalls.append(recall)\n",
    "        all_precisions.append(precision)\n",
    "    \n",
    "    \n",
    "        \n",
    "        print(f\"Fold {fold_idx + 1}: Accuracy = {acc:.4f}, F1 Score = {f1:.4f}, Recall = {recall}\")\n",
    "    \n",
    "    # Summary of results\n",
    "    print(f\"Average Accuracy: {np.mean(all_accuracies):.4f}\")\n",
    "    print(f\"Average F1 Score: {np.mean(all_f1_scores):.4f}\")\n",
    "    print(f\"Average Recall Score: {np.mean(all_recalls):.4f}\")\n",
    "    return all_accuracies, all_f1_scores, all_recalls, all_precisions"
   ]
  },
  {
   "cell_type": "code",
   "execution_count": null,
   "id": "47e5273a-1055-413f-b404-84018c6fde17",
   "metadata": {},
   "outputs": [],
   "source": [
    "test = evaluate_model(student_model, tokenizer)"
   ]
  },
  {
   "cell_type": "code",
   "execution_count": null,
   "id": "b93f7d9b-fe24-4e8f-a4ad-f4ef852aea0a",
   "metadata": {},
   "outputs": [],
   "source": [
    "from sklearn.metrics import accuracy_score, f1_score, recall_score\n",
    "\n",
    "model.to(device)\n",
    "\n",
    "# Set up stratified cross-validation\n",
    "n_splits = 5  # Number of folds\n",
    "skf = StratifiedKFold(n_splits=n_splits, shuffle=True, random_state=42)\n",
    "\n",
    "from sklearn.metrics import accuracy_score, f1_score, recall_score\n",
    "\n",
    "# Initialize metric accumulators\n",
    "all_accuracies = []\n",
    "all_f1_scores = []\n",
    "all_recalls = []\n",
    "all_precisions = []\n",
    "\n",
    "\n",
    "METRICS_AVERAGE_METHOD=[\"None\", \"micro\", \"macro\", \"weighted\"]\n",
    "MAM = 2\n",
    "\n",
    "\n",
    "# Perform evaluation for each fold\n",
    "for fold_idx, (train_idx, val_idx) in enumerate(skf.split(X, y)):\n",
    "    print(f\"Evaluating fold {fold_idx + 1}/{n_splits}\")\n",
    "\n",
    "    val_texts = X[val_idx]\n",
    "    val_labels = torch.tensor(y[val_idx]).to(device)  # Move labels to CUDA\n",
    "\n",
    "    tokenizer = DistilBertTokenizer.from_pretrained(str_model_name_datetime)\n",
    "    val_encodings = tokenizer(val_texts.tolist(), padding=\"max_length\", truncation=True, return_tensors=\"pt\")\n",
    "    val_encodings = {key: tensor.to(device) for key, tensor in val_encodings.items()}  # Move tensors to CUDA\n",
    "\n",
    "    val_dataset = torch.utils.data.TensorDataset(val_encodings['input_ids'], val_encodings['attention_mask'], val_labels)\n",
    "    val_dataloader = torch.utils.data.DataLoader(val_dataset, batch_size=16)\n",
    "\n",
    "    all_preds, all_labels = [], []\n",
    "    with torch.no_grad():\n",
    "        for input_ids, attention_mask, labels in val_dataloader:\n",
    "            input_ids, attention_mask, labels = input_ids.to(device), attention_mask.to(device), labels.to(device)  # Move input tensors to CUDA\n",
    "            outputs = model(input_ids=input_ids, attention_mask=attention_mask)\n",
    "            preds = torch.argmax(outputs.logits, dim=1)\n",
    "            all_preds.extend(preds.cpu().numpy())  # Move predictions back to CPU\n",
    "            all_labels.extend(labels.cpu().numpy())  # Move labels back to CPU\n",
    "\n",
    "    # Calculate and store metrics\n",
    "    acc = accuracy_score(all_labels, all_preds)\n",
    "    f1 = f1_score(all_labels, all_preds, average=METRICS_AVERAGE_METHOD[MAM])\n",
    "    recall = recall_score(all_labels, all_preds, average=METRICS_AVERAGE_METHOD[MAM])  # Calculate recall for each class\n",
    "    precision = precision_score(all_labels, all_preds, average=METRICS_AVERAGE_METHOD[MAM])\n",
    "    all_accuracies.append(acc)\n",
    "    all_f1_scores.append(f1)\n",
    "    all_recalls.append(recall)\n",
    "    all_precisions.append(precision)\n",
    "\n",
    "\n",
    "    \n",
    "    print(f\"Fold {fold_idx + 1}: Accuracy = {acc:.4f}, F1 Score = {f1:.4f}, Recall = {recall}\")\n",
    "\n",
    "# Summary of results\n",
    "print(f\"Average Accuracy: {np.mean(all_accuracies):.4f}\")\n",
    "print(f\"Average F1 Score: {np.mean(all_f1_scores):.4f}\")\n",
    "print(f\"Average Recall Score: {np.mean(all_recalls):.4f}\")\n"
   ]
  },
  {
   "cell_type": "code",
   "execution_count": null,
   "id": "81f14a1c-4265-45cf-9f3e-dac1137dbe48",
   "metadata": {},
   "outputs": [],
   "source": [
    "def calculate_f1(precision, recall):\n",
    "    \"\"\"\n",
    "    Calculate the F1 score for given precision and recall values.\n",
    "    \"\"\"\n",
    "    if precision + recall == 0:\n",
    "        return 0\n",
    "    else:\n",
    "        return 2 * (precision * recall) / (precision + recall)"
   ]
  },
  {
   "cell_type": "code",
   "execution_count": null,
   "id": "505702d2-bec3-4e9c-ba86-35c437d974ec",
   "metadata": {},
   "outputs": [],
   "source": [
    "# Calculate F1 score for each pair of precision and recall values\n",
    "f1_scores = [calculate_f1(p, r) for p, r in zip(all_precisions, all_recalls)]\n",
    "\n",
    "# Print the F1 scores\n",
    "print(\"F1 scores:\", f1_scores)\n",
    "print(f\"Average F1 Score: {np.mean(f1_scores):.4f}\")"
   ]
  },
  {
   "cell_type": "code",
   "execution_count": null,
   "id": "f28e409d-0829-48c5-85cf-ea3815063a3a",
   "metadata": {},
   "outputs": [],
   "source": [
    "all_recalls\n"
   ]
  },
  {
   "cell_type": "code",
   "execution_count": null,
   "id": "1abc5397-e7c5-4168-9b16-fff00ca388b4",
   "metadata": {},
   "outputs": [],
   "source": [
    "import matplotlib.pyplot as plt\n",
    "\n",
    "# Plotting\n",
    "fig, ax = plt.subplots(figsize=(10, 6))\n",
    "\n",
    "# Plot accuracy\n",
    "ax.plot(range(1, n_splits + 1), all_accuracies, marker='o', label='Accuracy')\n",
    "\n",
    "# Plot F1 score\n",
    "ax.plot(range(1, n_splits + 1), all_f1_scores, marker='o', label='F1 Score')\n",
    "\n",
    "# Plot recall for each class (assuming binary classification)\n",
    "# for class_idx in range(len(all_recalls[0])):\n",
    "#     recalls = [recall[class_idx] for recall in all_recalls]\n",
    "ax.plot(range(1, n_splits + 1), all_recalls, marker='o', label=f'Recall Class {class_idx}')\n",
    "\n",
    "ax.set_xlabel('Fold')\n",
    "ax.set_ylabel('Score')\n",
    "ax.set_title('Evaluation Metrics')\n",
    "ax.legend()\n",
    "plt.xticks(range(1, n_splits + 1))\n",
    "plt.grid(True)\n",
    "\n",
    "plt.savefig(str_model_name_datetime+\"/Evaluation\"+str_model_name_datetime+\".jpg\")\n",
    "\n",
    "plt.show()\n"
   ]
  },
  {
   "cell_type": "code",
   "execution_count": null,
   "id": "fd31f43d-0250-400e-8256-cb3d2b5b06a7",
   "metadata": {},
   "outputs": [],
   "source": [
    "\n",
    "test_data\n"
   ]
  },
  {
   "cell_type": "markdown",
   "id": "5bb9ff05-507b-4478-bbb5-ad2480137539",
   "metadata": {},
   "source": [
    "### Evaluate the model on test data to report the loss to evaluate the training process"
   ]
  },
  {
   "cell_type": "code",
   "execution_count": null,
   "id": "7641c008-5c56-4f05-97b1-cbcd7b3e51bc",
   "metadata": {},
   "outputs": [],
   "source": [
    "# Apply tokenization\n",
    "test_data = test_data.map(tokenize_function, batched=True)\n",
    "test_data.set_format(type='torch', columns=['input_ids', 'attention_mask', 'label'])\n",
    "\n",
    "test_data_loader = DataLoader(test_data, batch_size=batch_size, shuffle=False)\n"
   ]
  },
  {
   "cell_type": "markdown",
   "id": "71fe56f6-84e1-43d0-b7b5-2a7fb5b7c980",
   "metadata": {},
   "source": [
    "### Test Loss to compare the training"
   ]
  },
  {
   "cell_type": "code",
   "execution_count": null,
   "id": "b17ee642-8694-46b3-b54f-b003a23d00ed",
   "metadata": {},
   "outputs": [],
   "source": [
    "model.eval()\n",
    "with torch.no_grad():\n",
    "    test_loss = 0\n",
    "    test_preds = []\n",
    "    test_labels = []\n",
    "    \n",
    "    for batch in tqdm(test_data_loader, desc=\"Testing\"):\n",
    "        input_ids = batch['input_ids'].to(device)\n",
    "        attention_mask = batch['attention_mask'].to(device)\n",
    "        labels = batch['label'].to(device)\n",
    "\n",
    "        with autocast():\n",
    "            outputs = model(input_ids=input_ids, attention_mask=attention_mask, labels=labels)\n",
    "            loss = outputs.loss\n",
    "        \n",
    "        test_loss += loss.item()\n",
    "        preds = torch.argmax(outputs.logits, dim=1).cpu().numpy()\n",
    "        test_preds.extend(preds)\n",
    "        test_labels.extend(labels.cpu().numpy())\n",
    "\n",
    "    test_loss /= len(test_data_loader)\n",
    "    test_accuracy = accuracy_score(test_labels, test_preds)\n",
    "    test_f1 = f1_score(test_labels, test_preds, average=METRICS_AVERAGE_METHOD[MAM])\n",
    "    print(f\"Test - Loss: {test_loss:.4f}, Accuracy: {test_accuracy:.4f}, F1: {test_f1:.4f}\")"
   ]
  },
  {
   "cell_type": "markdown",
   "id": "420c958d-417a-402e-8352-8154336aeefd",
   "metadata": {},
   "source": [
    "### Test loss and evaluation in one pipeline"
   ]
  },
  {
   "cell_type": "code",
   "execution_count": null,
   "id": "b6e952e6-87c7-4cc9-96ab-a2c2bc8d34e8",
   "metadata": {},
   "outputs": [],
   "source": [
    "from sklearn.metrics import accuracy_score, f1_score, recall_score\n",
    "\n",
    "model.to(device)\n",
    "\n",
    "# Set up stratified cross-validation\n",
    "n_splits = 5  # Number of folds\n",
    "skf = StratifiedKFold(n_splits=n_splits, shuffle=True, random_state=42)\n",
    "\n",
    "from sklearn.metrics import accuracy_score, f1_score, recall_score\n",
    "\n",
    "# Initialize metric accumulators\n",
    "all_accuracies = []\n",
    "all_f1_scores = []\n",
    "all_recalls = []\n",
    "all_precisions = []\n",
    "all_test_losses = []\n",
    "\n",
    "METRICS_AVERAGE_METHOD=[\"None\", \"micro\", \"macro\", \"weighted\"]\n",
    "MAM = 2\n",
    "\n",
    "\n",
    "# Perform evaluation for each fold\n",
    "for fold_idx, (train_idx, val_idx) in enumerate(skf.split(X, y)):\n",
    "    print(f\"Evaluating fold {fold_idx + 1}/{n_splits}\")\n",
    "    \n",
    "    \n",
    "    \n",
    "    val_texts = X[val_idx]\n",
    "    val_labels = torch.tensor(y[val_idx]).to(device)  # Move labels to CUDA\n",
    "\n",
    "    tokenizer = DistilBertTokenizer.from_pretrained(str_model_name_datetime)\n",
    "    val_encodings = tokenizer(val_texts.tolist(), padding=\"max_length\", truncation=True, return_tensors=\"pt\")\n",
    "    val_encodings = {key: tensor.to(device) for key, tensor in val_encodings.items()}  # Move tensors to CUDA\n",
    "\n",
    "    val_dataset = torch.utils.data.TensorDataset(val_encodings['input_ids'], val_encodings['attention_mask'], val_labels)\n",
    "    val_dataloader = torch.utils.data.DataLoader(val_dataset, batch_size=16)\n",
    "\n",
    "    all_preds, all_labels, all_losses = [], [], []\n",
    "    test_loss = 0\n",
    "    with torch.no_grad():\n",
    "        for input_ids, attention_mask, labels in val_dataloader:\n",
    "            input_ids, attention_mask, labels = input_ids.to(device), attention_mask.to(device), labels.to(device)  # Move input tensors to CUDA\n",
    "            # outputs = model(input_ids=input_ids, attention_mask=attention_mask)\n",
    "            \n",
    "            outputs = model(input_ids=input_ids, attention_mask=attention_mask, labels=labels)\n",
    "            loss = outputs.loss\n",
    "            test_loss += loss.item()\n",
    "            # test_loss += outputs.loss.item()            \n",
    "            preds = torch.argmax(outputs.logits, dim=1)\n",
    "            all_preds.extend(preds.cpu().numpy())  # Move predictions back to CPU\n",
    "            all_labels.extend(labels.cpu().numpy())  # Move labels back to CPU\n",
    "\n",
    "    # Calculate and store metrics\n",
    "    acc = accuracy_score(all_labels, all_preds)\n",
    "    f1 = f1_score(all_labels, all_preds, average=METRICS_AVERAGE_METHOD[MAM])\n",
    "    recall = recall_score(all_labels, all_preds, average=METRICS_AVERAGE_METHOD[MAM])  # Calculate recall for each class\n",
    "    precision = precision_score(all_labels, all_preds, average=METRICS_AVERAGE_METHOD[MAM])\n",
    "    all_accuracies.append(acc)\n",
    "    all_f1_scores.append(f1)\n",
    "    all_recalls.append(recall)\n",
    "    all_precisions.append(precision)\n",
    "    test_loss /= len(test_data_loader)\n",
    "    all_test_losses.append(test_loss)    \n",
    "    print(f\"Fold {fold_idx + 1}: Accuracy = {acc:.4f}, F1 Score = {f1:.4f}, Recall = {recall}, Test Loss = {test_loss}\")\n",
    "\n",
    "# Summary of results\n",
    "print(f\"Average Accuracy: {np.mean(all_accuracies):.4f}\")\n",
    "print(f\"Average F1 Score: {np.mean(all_f1_scores):.4f}\")\n",
    "print(f\"Average Recall Score: {np.mean(all_recalls):.4f}\")\n"
   ]
  },
  {
   "cell_type": "markdown",
   "id": "2a54d45e-13ca-456a-8e12-f9c1b0a97a36",
   "metadata": {},
   "source": [
    "# Optimizable Trigger "
   ]
  },
  {
   "cell_type": "markdown",
   "id": "41bea633-8c30-4475-9183-25fd9d2cfadc",
   "metadata": {},
   "source": [
    "## Trigger alone"
   ]
  },
  {
   "cell_type": "code",
   "execution_count": 17,
   "id": "d1a29bf3-0765-494b-a65a-6ab70648f9b1",
   "metadata": {},
   "outputs": [
    {
     "data": {
      "text/plain": [
       "DistilBertConfig {\n",
       "  \"_name_or_path\": \"distilbert-base-uncased\",\n",
       "  \"activation\": \"gelu\",\n",
       "  \"architectures\": [\n",
       "    \"DistilBertForMaskedLM\"\n",
       "  ],\n",
       "  \"attention_dropout\": 0.1,\n",
       "  \"dim\": 768,\n",
       "  \"dropout\": 0.1,\n",
       "  \"hidden_dim\": 3072,\n",
       "  \"initializer_range\": 0.02,\n",
       "  \"max_position_embeddings\": 512,\n",
       "  \"model_type\": \"distilbert\",\n",
       "  \"n_heads\": 12,\n",
       "  \"n_layers\": 6,\n",
       "  \"pad_token_id\": 0,\n",
       "  \"qa_dropout\": 0.1,\n",
       "  \"seq_classif_dropout\": 0.2,\n",
       "  \"sinusoidal_pos_embds\": false,\n",
       "  \"tie_weights_\": true,\n",
       "  \"transformers_version\": \"4.40.1\",\n",
       "  \"vocab_size\": 30522\n",
       "}"
      ]
     },
     "execution_count": 17,
     "metadata": {},
     "output_type": "execute_result"
    }
   ],
   "source": [
    "model.config"
   ]
  },
  {
   "cell_type": "code",
   "execution_count": 18,
   "id": "97cbec22-4591-4a00-8cb5-9b7f3ad9a990",
   "metadata": {},
   "outputs": [],
   "source": [
    "import torch\n",
    "from torch import nn\n",
    "from torch.optim import Adam\n",
    "\n",
    "# Assuming `teacher_model` and `shadow_model` are your pre-trained models\n",
    "# `tokenizer` is your text tokenizer, and `embeddings` are the model's token embeddings\n",
    "\n",
    "# Initial trigger as embeddings directly\n",
    "trigger_embedding = nn.Parameter(torch.randn(size=(3, tokenizer.model_max_length)))  # 3 tokens, adjust size accordingly\n"
   ]
  },
  {
   "cell_type": "code",
   "execution_count": 71,
   "id": "6aedc7ad-9579-4803-b855-f7c34f0ce6ab",
   "metadata": {},
   "outputs": [
    {
     "data": {
      "text/plain": [
       "768"
      ]
     },
     "execution_count": 71,
     "metadata": {},
     "output_type": "execute_result"
    }
   ],
   "source": [
    "len(trigger_embedding[0])"
   ]
  },
  {
   "cell_type": "code",
   "execution_count": 19,
   "id": "a740db72-60ed-4b1a-a431-bae5745799af",
   "metadata": {},
   "outputs": [
    {
     "data": {
      "text/plain": [
       "512"
      ]
     },
     "execution_count": 19,
     "metadata": {},
     "output_type": "execute_result"
    }
   ],
   "source": [
    "tokenizer.model_max_length"
   ]
  },
  {
   "cell_type": "code",
   "execution_count": 21,
   "id": "4ec585d2-26e6-4b88-af00-8a87096c9513",
   "metadata": {},
   "outputs": [
    {
     "name": "stdout",
     "output_type": "stream",
     "text": [
      "Embedding size: 768\n"
     ]
    }
   ],
   "source": [
    "# Access the embedding size\n",
    "embedding_size = model.distilbert.embeddings.word_embeddings.embedding_dim\n",
    "\n",
    "print(\"Embedding size:\", embedding_size)  # This should print 768\n"
   ]
  },
  {
   "cell_type": "code",
   "execution_count": 22,
   "id": "98f34ba2-d7b0-451c-8fae-d89d375d8d1b",
   "metadata": {},
   "outputs": [
    {
     "data": {
      "text/plain": [
       "Parameter containing:\n",
       "tensor([[ 3.0996,  0.6394, -0.8456,  ..., -1.2371, -1.2273, -0.6635],\n",
       "        [-0.2019,  0.7132,  0.3083,  ...,  0.6226,  1.6666, -1.7102],\n",
       "        [-0.0115,  0.0928,  0.1676,  ...,  0.4694, -0.6336, -0.0486]],\n",
       "       requires_grad=True)"
      ]
     },
     "execution_count": 22,
     "metadata": {},
     "output_type": "execute_result"
    }
   ],
   "source": [
    "trigger_embedding"
   ]
  },
  {
   "cell_type": "code",
   "execution_count": 72,
   "id": "cf389074-6ec0-4be0-b59c-3e07793bfab6",
   "metadata": {},
   "outputs": [],
   "source": [
    "\n",
    "# Optimizer for the trigger embeddings and mask\n",
    "optimizer = Adam([trigger_embedding], lr=1e-3)\n"
   ]
  },
  {
   "cell_type": "code",
   "execution_count": null,
   "id": "9d0508d4-039b-4d26-afa2-9ad45295b1ff",
   "metadata": {},
   "outputs": [],
   "source": []
  },
  {
   "cell_type": "code",
   "execution_count": 73,
   "id": "8d690db4-b3ca-4efd-b721-10a9d439c7dc",
   "metadata": {},
   "outputs": [],
   "source": [
    "# Loss function setup\n",
    "criterion = nn.CrossEntropyLoss()"
   ]
  },
  {
   "cell_type": "code",
   "execution_count": 74,
   "id": "84f95447-96a9-40ac-994a-37d4a7b72137",
   "metadata": {},
   "outputs": [],
   "source": [
    "embeddings = model.get_input_embeddings()  # This returns the embedding layer\n",
    "embedding_weights = embeddings.weight "
   ]
  },
  {
   "cell_type": "code",
   "execution_count": 76,
   "id": "e5d959ea-8b90-4b01-8c14-2f12188a157e",
   "metadata": {},
   "outputs": [
    {
     "data": {
      "text/plain": [
       "Embedding(30522, 768, padding_idx=0)"
      ]
     },
     "execution_count": 76,
     "metadata": {},
     "output_type": "execute_result"
    }
   ],
   "source": [
    "embeddings"
   ]
  },
  {
   "cell_type": "code",
   "execution_count": 75,
   "id": "27e7a76c-9bf2-46ed-a207-45e8ca4bf8a2",
   "metadata": {},
   "outputs": [
    {
     "data": {
      "text/plain": [
       "Parameter containing:\n",
       "tensor([[-0.0166, -0.0666, -0.0163,  ..., -0.0200, -0.0514, -0.0264],\n",
       "        [-0.0132, -0.0673, -0.0161,  ..., -0.0227, -0.0554, -0.0260],\n",
       "        [-0.0176, -0.0709, -0.0144,  ..., -0.0246, -0.0596, -0.0232],\n",
       "        ...,\n",
       "        [-0.0231, -0.0588, -0.0105,  ..., -0.0195, -0.0262, -0.0212],\n",
       "        [-0.0490, -0.0561, -0.0047,  ..., -0.0107, -0.0180, -0.0219],\n",
       "        [-0.0065, -0.0915, -0.0025,  ..., -0.0151, -0.0504,  0.0460]],\n",
       "       device='cuda:0', requires_grad=True)"
      ]
     },
     "execution_count": 75,
     "metadata": {},
     "output_type": "execute_result"
    }
   ],
   "source": [
    "embedding_weights"
   ]
  },
  {
   "cell_type": "code",
   "execution_count": 62,
   "id": "caf9b70d-461e-45d7-ba4d-36e60b4bd467",
   "metadata": {},
   "outputs": [],
   "source": [
    "def model_forward(input_ids, model):\n",
    "    # Forward pass through the model\n",
    "    outputs = model(input_ids=input_ids)\n",
    "    return outputs.logits\n",
    "\n",
    "def discretize_embeddings(trigger_embedding, all_embeddings):\n",
    "    \"\"\"\n",
    "    Finds the nearest token indices for each embedding in trigger_embedding.\n",
    "    \n",
    "    Args:\n",
    "    - trigger_embedding: A tensor of shape (num_triggers, embedding_dim), where embedding_dim should be 768 for DistilBERT.\n",
    "    - all_embeddings: The embeddings matrix from the model, typically model.embeddings.weight for models like BERT or DistilBERT.\n",
    "\n",
    "    Returns:\n",
    "    - Tensor of indices with shape (num_triggers,), each index corresponding to the nearest embedding in the vocabulary.\n",
    "    \"\"\"\n",
    "    # Ensure trigger_embedding is correctly sized, e.g., (num_triggers, 768)\n",
    "    # Calculate distances from each trigger embedding to all model embeddings\n",
    "    distances = torch.cdist(trigger_embedding.unsqueeze(0), all_embeddings.unsqueeze(0))\n",
    "    # Find the indices of the closest embeddings\n",
    "    return torch.argmin(distances, dim=-1)\n"
   ]
  },
  {
   "cell_type": "code",
   "execution_count": 82,
   "id": "4528f8cd-1e70-477a-8842-7921ac731685",
   "metadata": {},
   "outputs": [
    {
     "data": {
      "text/plain": [
       "tensor([[[-0.0166, -0.0666, -0.0163,  ..., -0.0200, -0.0514, -0.0264],\n",
       "         [-0.0132, -0.0673, -0.0161,  ..., -0.0227, -0.0554, -0.0260],\n",
       "         [-0.0176, -0.0709, -0.0144,  ..., -0.0246, -0.0596, -0.0232],\n",
       "         ...,\n",
       "         [-0.0231, -0.0588, -0.0105,  ..., -0.0195, -0.0262, -0.0212],\n",
       "         [-0.0490, -0.0561, -0.0047,  ..., -0.0107, -0.0180, -0.0219],\n",
       "         [-0.0065, -0.0915, -0.0025,  ..., -0.0151, -0.0504,  0.0460]]],\n",
       "       device='cuda:0', grad_fn=<UnsqueezeBackward0>)"
      ]
     },
     "execution_count": 82,
     "metadata": {},
     "output_type": "execute_result"
    }
   ],
   "source": [
    "embedding_weights.unsqueeze(0)"
   ]
  },
  {
   "cell_type": "code",
   "execution_count": 81,
   "id": "f328b806-905b-4085-9634-416ebb7702a0",
   "metadata": {},
   "outputs": [
    {
     "data": {
      "text/plain": [
       "tensor([[[ 0.5269,  2.7147, -0.0727,  ...,  0.3702,  0.4901,  1.3938],\n",
       "         [ 0.4049, -0.0950, -1.6777,  ...,  1.0327, -0.6481, -0.3243],\n",
       "         [-2.4859,  0.4882,  0.1825,  ..., -2.3499,  2.0505, -2.3440],\n",
       "         [ 0.3388, -1.0357, -0.4314,  ..., -0.2698,  0.4841,  0.9999],\n",
       "         [ 0.0127, -1.2833, -1.1815,  ..., -1.4753, -1.3980,  0.2181],\n",
       "         [-0.2985,  0.9257, -1.9373,  ...,  2.3064,  0.4475,  0.6442]]],\n",
       "       grad_fn=<UnsqueezeBackward0>)"
      ]
     },
     "execution_count": 81,
     "metadata": {},
     "output_type": "execute_result"
    }
   ],
   "source": [
    "#embeddings.unsqueeze()\n",
    "trigger_embedding.unsqueeze(0)"
   ]
  },
  {
   "cell_type": "code",
   "execution_count": null,
   "id": "1a359023-590e-49cf-8313-e381b70fc3c5",
   "metadata": {},
   "outputs": [],
   "source": [
    "torch.cdist(trigger_embedding.unsqueeze(0), embeddings.unsqueeze(0))"
   ]
  },
  {
   "cell_type": "code",
   "execution_count": 78,
   "id": "0ec0bc2f-fa88-4ccc-858a-1ba3c46a0340",
   "metadata": {},
   "outputs": [
    {
     "ename": "AttributeError",
     "evalue": "'Embedding' object has no attribute 'unsqueeze'",
     "output_type": "error",
     "traceback": [
      "\u001b[0;31m---------------------------------------------------------------------------\u001b[0m",
      "\u001b[0;31mAttributeError\u001b[0m                            Traceback (most recent call last)",
      "Cell \u001b[0;32mIn[78], line 1\u001b[0m\n\u001b[0;32m----> 1\u001b[0m \u001b[43mdiscretize_embeddings\u001b[49m\u001b[43m(\u001b[49m\u001b[43mtrigger_embedding\u001b[49m\u001b[43m,\u001b[49m\u001b[43m \u001b[49m\u001b[43membeddings\u001b[49m\u001b[43m)\u001b[49m\n",
      "Cell \u001b[0;32mIn[62], line 19\u001b[0m, in \u001b[0;36mdiscretize_embeddings\u001b[0;34m(trigger_embedding, all_embeddings)\u001b[0m\n\u001b[1;32m      7\u001b[0m \u001b[38;5;250m\u001b[39m\u001b[38;5;124;03m\"\"\"\u001b[39;00m\n\u001b[1;32m      8\u001b[0m \u001b[38;5;124;03mFinds the nearest token indices for each embedding in trigger_embedding.\u001b[39;00m\n\u001b[1;32m      9\u001b[0m \u001b[38;5;124;03m\u001b[39;00m\n\u001b[0;32m   (...)\u001b[0m\n\u001b[1;32m     15\u001b[0m \u001b[38;5;124;03m- Tensor of indices with shape (num_triggers,), each index corresponding to the nearest embedding in the vocabulary.\u001b[39;00m\n\u001b[1;32m     16\u001b[0m \u001b[38;5;124;03m\"\"\"\u001b[39;00m\n\u001b[1;32m     17\u001b[0m \u001b[38;5;66;03m# Ensure trigger_embedding is correctly sized, e.g., (num_triggers, 768)\u001b[39;00m\n\u001b[1;32m     18\u001b[0m \u001b[38;5;66;03m# Calculate distances from each trigger embedding to all model embeddings\u001b[39;00m\n\u001b[0;32m---> 19\u001b[0m distances \u001b[38;5;241m=\u001b[39m torch\u001b[38;5;241m.\u001b[39mcdist(trigger_embedding\u001b[38;5;241m.\u001b[39munsqueeze(\u001b[38;5;241m0\u001b[39m), \u001b[43mall_embeddings\u001b[49m\u001b[38;5;241;43m.\u001b[39;49m\u001b[43munsqueeze\u001b[49m(\u001b[38;5;241m0\u001b[39m))\n\u001b[1;32m     20\u001b[0m \u001b[38;5;66;03m# Find the indices of the closest embeddings\u001b[39;00m\n\u001b[1;32m     21\u001b[0m \u001b[38;5;28;01mreturn\u001b[39;00m torch\u001b[38;5;241m.\u001b[39margmin(distances, dim\u001b[38;5;241m=\u001b[39m\u001b[38;5;241m-\u001b[39m\u001b[38;5;241m1\u001b[39m)\n",
      "File \u001b[0;32m~/.conda/envs/phd1/lib/python3.12/site-packages/torch/nn/modules/module.py:1709\u001b[0m, in \u001b[0;36mModule.__getattr__\u001b[0;34m(self, name)\u001b[0m\n\u001b[1;32m   1707\u001b[0m     \u001b[38;5;28;01mif\u001b[39;00m name \u001b[38;5;129;01min\u001b[39;00m modules:\n\u001b[1;32m   1708\u001b[0m         \u001b[38;5;28;01mreturn\u001b[39;00m modules[name]\n\u001b[0;32m-> 1709\u001b[0m \u001b[38;5;28;01mraise\u001b[39;00m \u001b[38;5;167;01mAttributeError\u001b[39;00m(\u001b[38;5;124mf\u001b[39m\u001b[38;5;124m\"\u001b[39m\u001b[38;5;124m'\u001b[39m\u001b[38;5;132;01m{\u001b[39;00m\u001b[38;5;28mtype\u001b[39m(\u001b[38;5;28mself\u001b[39m)\u001b[38;5;241m.\u001b[39m\u001b[38;5;18m__name__\u001b[39m\u001b[38;5;132;01m}\u001b[39;00m\u001b[38;5;124m'\u001b[39m\u001b[38;5;124m object has no attribute \u001b[39m\u001b[38;5;124m'\u001b[39m\u001b[38;5;132;01m{\u001b[39;00mname\u001b[38;5;132;01m}\u001b[39;00m\u001b[38;5;124m'\u001b[39m\u001b[38;5;124m\"\u001b[39m)\n",
      "\u001b[0;31mAttributeError\u001b[0m: 'Embedding' object has no attribute 'unsqueeze'"
     ]
    }
   ],
   "source": [
    "discretize_embeddings(trigger_embedding, embeddings)"
   ]
  },
  {
   "cell_type": "code",
   "execution_count": 63,
   "id": "867fa5a9-9dbb-4715-9a68-c388efdc5ab6",
   "metadata": {},
   "outputs": [
    {
     "data": {
      "text/plain": [
       "768"
      ]
     },
     "execution_count": 63,
     "metadata": {},
     "output_type": "execute_result"
    }
   ],
   "source": [
    "embedding_size"
   ]
  },
  {
   "cell_type": "code",
   "execution_count": 65,
   "id": "80318c5a-3253-4b68-91ad-c36ae0537441",
   "metadata": {},
   "outputs": [],
   "source": [
    "# Example usage:\n",
    "# Assuming trigger_embedding is initialized correctly and matches the model's embedding dimensions\n",
    "trigger_embedding = nn.Parameter(torch.randn(6, embedding_size))  # Example: 3 triggers, each is an embedding of size 768"
   ]
  },
  {
   "cell_type": "code",
   "execution_count": 66,
   "id": "6d419ed0-ba2a-4abd-a44e-b31ef2e10385",
   "metadata": {},
   "outputs": [
    {
     "data": {
      "text/plain": [
       "Parameter containing:\n",
       "tensor([[ 0.5269,  2.7147, -0.0727,  ...,  0.3702,  0.4901,  1.3938],\n",
       "        [ 0.4049, -0.0950, -1.6777,  ...,  1.0327, -0.6481, -0.3243],\n",
       "        [-2.4859,  0.4882,  0.1825,  ..., -2.3499,  2.0505, -2.3440],\n",
       "        [ 0.3388, -1.0357, -0.4314,  ..., -0.2698,  0.4841,  0.9999],\n",
       "        [ 0.0127, -1.2833, -1.1815,  ..., -1.4753, -1.3980,  0.2181],\n",
       "        [-0.2985,  0.9257, -1.9373,  ...,  2.3064,  0.4475,  0.6442]],\n",
       "       requires_grad=True)"
      ]
     },
     "execution_count": 66,
     "metadata": {},
     "output_type": "execute_result"
    }
   ],
   "source": [
    "trigger_embedding"
   ]
  },
  {
   "cell_type": "code",
   "execution_count": 67,
   "id": "b6760df8-5d98-4fa0-ae72-1a78e1627f8f",
   "metadata": {},
   "outputs": [
    {
     "data": {
      "text/plain": [
       "device(type='cuda')"
      ]
     },
     "execution_count": 67,
     "metadata": {},
     "output_type": "execute_result"
    }
   ],
   "source": [
    "device"
   ]
  },
  {
   "cell_type": "code",
   "execution_count": 68,
   "id": "6ac43218-4520-4cba-9f19-6f0fcd285894",
   "metadata": {},
   "outputs": [
    {
     "data": {
      "text/plain": [
       "tensor([[ 0.5269,  2.7147, -0.0727,  ...,  0.3702,  0.4901,  1.3938],\n",
       "        [ 0.4049, -0.0950, -1.6777,  ...,  1.0327, -0.6481, -0.3243],\n",
       "        [-2.4859,  0.4882,  0.1825,  ..., -2.3499,  2.0505, -2.3440],\n",
       "        [ 0.3388, -1.0357, -0.4314,  ..., -0.2698,  0.4841,  0.9999],\n",
       "        [ 0.0127, -1.2833, -1.1815,  ..., -1.4753, -1.3980,  0.2181],\n",
       "        [-0.2985,  0.9257, -1.9373,  ...,  2.3064,  0.4475,  0.6442]],\n",
       "       device='cuda:0', grad_fn=<ToCopyBackward0>)"
      ]
     },
     "execution_count": 68,
     "metadata": {},
     "output_type": "execute_result"
    }
   ],
   "source": [
    "trigger_embedding.to(device)"
   ]
  },
  {
   "cell_type": "code",
   "execution_count": 69,
   "id": "c7b63f02-a9b5-4f98-813b-d56f8e8049c9",
   "metadata": {},
   "outputs": [
    {
     "ename": "AttributeError",
     "evalue": "'Embedding' object has no attribute 'device'",
     "output_type": "error",
     "traceback": [
      "\u001b[0;31m---------------------------------------------------------------------------\u001b[0m",
      "\u001b[0;31mAttributeError\u001b[0m                            Traceback (most recent call last)",
      "Cell \u001b[0;32mIn[69], line 1\u001b[0m\n\u001b[0;32m----> 1\u001b[0m \u001b[43membeddings\u001b[49m\u001b[38;5;241;43m.\u001b[39;49m\u001b[43mdevice\u001b[49m\n",
      "File \u001b[0;32m~/.conda/envs/phd1/lib/python3.12/site-packages/torch/nn/modules/module.py:1709\u001b[0m, in \u001b[0;36mModule.__getattr__\u001b[0;34m(self, name)\u001b[0m\n\u001b[1;32m   1707\u001b[0m     \u001b[38;5;28;01mif\u001b[39;00m name \u001b[38;5;129;01min\u001b[39;00m modules:\n\u001b[1;32m   1708\u001b[0m         \u001b[38;5;28;01mreturn\u001b[39;00m modules[name]\n\u001b[0;32m-> 1709\u001b[0m \u001b[38;5;28;01mraise\u001b[39;00m \u001b[38;5;167;01mAttributeError\u001b[39;00m(\u001b[38;5;124mf\u001b[39m\u001b[38;5;124m\"\u001b[39m\u001b[38;5;124m'\u001b[39m\u001b[38;5;132;01m{\u001b[39;00m\u001b[38;5;28mtype\u001b[39m(\u001b[38;5;28mself\u001b[39m)\u001b[38;5;241m.\u001b[39m\u001b[38;5;18m__name__\u001b[39m\u001b[38;5;132;01m}\u001b[39;00m\u001b[38;5;124m'\u001b[39m\u001b[38;5;124m object has no attribute \u001b[39m\u001b[38;5;124m'\u001b[39m\u001b[38;5;132;01m{\u001b[39;00mname\u001b[38;5;132;01m}\u001b[39;00m\u001b[38;5;124m'\u001b[39m\u001b[38;5;124m\"\u001b[39m)\n",
      "\u001b[0;31mAttributeError\u001b[0m: 'Embedding' object has no attribute 'device'"
     ]
    }
   ],
   "source": [
    "embeddings.device"
   ]
  },
  {
   "cell_type": "code",
   "execution_count": 59,
   "id": "3774f575-c037-46b2-b378-0ed18b04665b",
   "metadata": {},
   "outputs": [
    {
     "data": {
      "text/plain": [
       "device(type='cpu')"
      ]
     },
     "execution_count": 59,
     "metadata": {},
     "output_type": "execute_result"
    }
   ],
   "source": [
    "trigger_embedding.device"
   ]
  },
  {
   "cell_type": "code",
   "execution_count": 58,
   "id": "bb875996-4420-4c9a-9128-737a5b78119d",
   "metadata": {},
   "outputs": [
    {
     "data": {
      "text/plain": [
       "768"
      ]
     },
     "execution_count": 58,
     "metadata": {},
     "output_type": "execute_result"
    }
   ],
   "source": [
    "embeddings.embedding_dim"
   ]
  },
  {
   "cell_type": "code",
   "execution_count": 51,
   "id": "697ffd74-c96c-4886-bff6-f33e1d8e05ab",
   "metadata": {},
   "outputs": [
    {
     "name": "stdout",
     "output_type": "stream",
     "text": [
      "tensor([[[0, 0, 0, 0, 0, 0]]], device='cuda:0')\n"
     ]
    }
   ],
   "source": [
    "def discretize_embeddings(trigger_embedding, all_embeddings):\n",
    "    # Ensure trigger_embedding is in the shape (1, num_tokens, embedding_dim)\n",
    "    trigger_embedding = trigger_embedding.unsqueeze(0)\n",
    "\n",
    "    # Calculate distances to all embeddings\n",
    "    distances = torch.cdist(trigger_embedding, all_embeddings.unsqueeze(0))\n",
    "    # Distances shape should be (1, num_trigger_tokens, num_vocab_tokens)\n",
    "\n",
    "    # Find the nearest token for each embedding in the trigger\n",
    "    nearest_tokens = distances.squeeze(0).argmin(dim=-1)\n",
    "    return nearest_tokens\n",
    "\n",
    "# Sample usage\n",
    "device = 'cuda'\n",
    "num_trigger_tokens = 3\n",
    "embedding_dim = embeddings.embedding_dim\n",
    "vocab_size = embeddings.num_embeddings\n",
    "\n",
    "# Initialize trigger embeddings directly on the device\n",
    "trigger_embedding = nn.Parameter(torch.randn(size=(num_trigger_tokens, embedding_dim))).to(device)\n",
    "\n",
    "# Assume `embeddings` is your model's embedding layer, also moved to GPU\n",
    "embeddings = embeddings.to(device)\n",
    "\n",
    "# Discretizing\n",
    "discrete_tokens = discretize_embeddings(trigger_embedding, embeddings.weight)\n",
    "\n",
    "print(discrete_tokens)  # This will print the indices of the nearest tokens in the vocabulary\n",
    "\n",
    "# Outputs should be indices in the vocabulary, e.g., tensor([102, 2154, 678], device='cuda:0')\n"
   ]
  },
  {
   "cell_type": "code",
   "execution_count": 31,
   "id": "25256ae9-448c-4e1e-b5cc-d57eea895e5b",
   "metadata": {},
   "outputs": [
    {
     "name": "stdout",
     "output_type": "stream",
     "text": [
      "torch.Size([1, 6, 768])\n"
     ]
    }
   ],
   "source": [
    "model.to(device)  # Move model to the appropriate device\n",
    "\n",
    "# Example text\n",
    "text = \"Hello, world!\"\n",
    "encoded_input = tokenizer(text, return_tensors='pt')  # Tokenize text and convert to PyTorch tensors\n",
    "\n",
    "# Ensure all tensors are moved to the same device as the model\n",
    "input_ids = encoded_input['input_ids'].to(device)\n",
    "\n",
    "# Get embeddings from the model\n",
    "embeddings = model.distilbert.embeddings(input_ids)  # This obtains the embeddings for the input IDs\n",
    "\n",
    "print(embeddings.shape) "
   ]
  },
  {
   "cell_type": "code",
   "execution_count": 86,
   "id": "c9340eaf-1ecf-492b-8ff7-9cad98620140",
   "metadata": {},
   "outputs": [
    {
     "data": {
      "text/plain": [
       "Parameter containing:\n",
       "tensor([[-0.0166, -0.0666, -0.0163,  ..., -0.0200, -0.0514, -0.0264],\n",
       "        [-0.0132, -0.0673, -0.0161,  ..., -0.0227, -0.0554, -0.0260],\n",
       "        [-0.0176, -0.0709, -0.0144,  ..., -0.0246, -0.0596, -0.0232],\n",
       "        ...,\n",
       "        [-0.0231, -0.0588, -0.0105,  ..., -0.0195, -0.0262, -0.0212],\n",
       "        [-0.0490, -0.0561, -0.0047,  ..., -0.0107, -0.0180, -0.0219],\n",
       "        [-0.0065, -0.0915, -0.0025,  ..., -0.0151, -0.0504,  0.0460]],\n",
       "       device='cuda:0', requires_grad=True)"
      ]
     },
     "execution_count": 86,
     "metadata": {},
     "output_type": "execute_result"
    }
   ],
   "source": [
    "embeddings.weight"
   ]
  },
  {
   "cell_type": "code",
   "execution_count": 30,
   "id": "e8b71011-b4a8-4f0e-b283-de8085b182a9",
   "metadata": {},
   "outputs": [
    {
     "data": {
      "text/plain": [
       "device(type='cuda')"
      ]
     },
     "execution_count": 30,
     "metadata": {},
     "output_type": "execute_result"
    }
   ],
   "source": [
    "device"
   ]
  },
  {
   "cell_type": "code",
   "execution_count": 92,
   "id": "7a6b30d0-1e86-4f0c-b92b-6c69fc4905e5",
   "metadata": {},
   "outputs": [],
   "source": [
    "# Assuming `embeddings` is your model’s embedding layer\n",
    "embedding_dim = embeddings.embedding_dim\n",
    "\n",
    "# Initialize trigger embeddings with the correct dimension\n",
    "trigger_embedding = nn.Parameter(torch.randn(size=(10, embedding_dim)))"
   ]
  },
  {
   "cell_type": "code",
   "execution_count": 93,
   "id": "3ed8a8bc-347d-48b2-9610-fa61d5450696",
   "metadata": {},
   "outputs": [
    {
     "ename": "RuntimeError",
     "evalue": "X1 and X2 must have the same device type. X1: cpu X2: cuda",
     "output_type": "error",
     "traceback": [
      "\u001b[0;31m---------------------------------------------------------------------------\u001b[0m",
      "\u001b[0;31mRuntimeError\u001b[0m                              Traceback (most recent call last)",
      "Cell \u001b[0;32mIn[93], line 1\u001b[0m\n\u001b[0;32m----> 1\u001b[0m discrete_tokens \u001b[38;5;241m=\u001b[39m \u001b[43mdiscretize_embeddings\u001b[49m\u001b[43m(\u001b[49m\u001b[43mtrigger_embedding\u001b[49m\u001b[43m,\u001b[49m\u001b[43m \u001b[49m\u001b[43membeddings\u001b[49m\u001b[38;5;241;43m.\u001b[39;49m\u001b[43mweight\u001b[49m\u001b[43m)\u001b[49m\n",
      "Cell \u001b[0;32mIn[89], line 15\u001b[0m, in \u001b[0;36mdiscretize_embeddings\u001b[0;34m(embeddings, all_embeddings)\u001b[0m\n\u001b[1;32m     11\u001b[0m \u001b[38;5;28;01mdef\u001b[39;00m \u001b[38;5;21mdiscretize_embeddings\u001b[39m(embeddings, all_embeddings):\n\u001b[1;32m     12\u001b[0m     \u001b[38;5;66;03m# embeddings should be [num_triggers, embedding_dim]\u001b[39;00m\n\u001b[1;32m     13\u001b[0m     \u001b[38;5;66;03m# all_embeddings should be [vocab_size, embedding_dim]\u001b[39;00m\n\u001b[1;32m     14\u001b[0m     \u001b[38;5;66;03m# Calculate distances between each pair of trigger embedding and vocabulary embedding\u001b[39;00m\n\u001b[0;32m---> 15\u001b[0m     distances \u001b[38;5;241m=\u001b[39m \u001b[43mtorch\u001b[49m\u001b[38;5;241;43m.\u001b[39;49m\u001b[43mcdist\u001b[49m\u001b[43m(\u001b[49m\u001b[43membeddings\u001b[49m\u001b[43m,\u001b[49m\u001b[43m \u001b[49m\u001b[43mall_embeddings\u001b[49m\u001b[43m)\u001b[49m  \u001b[38;5;66;03m# Correct dimensions\u001b[39;00m\n\u001b[1;32m     16\u001b[0m     \u001b[38;5;28;01mreturn\u001b[39;00m torch\u001b[38;5;241m.\u001b[39margmin(distances, dim\u001b[38;5;241m=\u001b[39m\u001b[38;5;241m1\u001b[39m)\n",
      "File \u001b[0;32m~/.conda/envs/phd1/lib/python3.12/site-packages/torch/functional.py:1335\u001b[0m, in \u001b[0;36mcdist\u001b[0;34m(x1, x2, p, compute_mode)\u001b[0m\n\u001b[1;32m   1332\u001b[0m     \u001b[38;5;28;01mreturn\u001b[39;00m handle_torch_function(\n\u001b[1;32m   1333\u001b[0m         cdist, (x1, x2), x1, x2, p\u001b[38;5;241m=\u001b[39mp, compute_mode\u001b[38;5;241m=\u001b[39mcompute_mode)\n\u001b[1;32m   1334\u001b[0m \u001b[38;5;28;01mif\u001b[39;00m compute_mode \u001b[38;5;241m==\u001b[39m \u001b[38;5;124m'\u001b[39m\u001b[38;5;124muse_mm_for_euclid_dist_if_necessary\u001b[39m\u001b[38;5;124m'\u001b[39m:\n\u001b[0;32m-> 1335\u001b[0m     \u001b[38;5;28;01mreturn\u001b[39;00m \u001b[43m_VF\u001b[49m\u001b[38;5;241;43m.\u001b[39;49m\u001b[43mcdist\u001b[49m\u001b[43m(\u001b[49m\u001b[43mx1\u001b[49m\u001b[43m,\u001b[49m\u001b[43m \u001b[49m\u001b[43mx2\u001b[49m\u001b[43m,\u001b[49m\u001b[43m \u001b[49m\u001b[43mp\u001b[49m\u001b[43m,\u001b[49m\u001b[43m \u001b[49m\u001b[38;5;28;43;01mNone\u001b[39;49;00m\u001b[43m)\u001b[49m  \u001b[38;5;66;03m# type: ignore[attr-defined]\u001b[39;00m\n\u001b[1;32m   1336\u001b[0m \u001b[38;5;28;01melif\u001b[39;00m compute_mode \u001b[38;5;241m==\u001b[39m \u001b[38;5;124m'\u001b[39m\u001b[38;5;124muse_mm_for_euclid_dist\u001b[39m\u001b[38;5;124m'\u001b[39m:\n\u001b[1;32m   1337\u001b[0m     \u001b[38;5;28;01mreturn\u001b[39;00m _VF\u001b[38;5;241m.\u001b[39mcdist(x1, x2, p, \u001b[38;5;241m1\u001b[39m)  \u001b[38;5;66;03m# type: ignore[attr-defined]\u001b[39;00m\n",
      "\u001b[0;31mRuntimeError\u001b[0m: X1 and X2 must have the same device type. X1: cpu X2: cuda"
     ]
    }
   ],
   "source": [
    "discrete_tokens = discretize_embeddings(trigger_embedding, embeddings.weight)"
   ]
  },
  {
   "cell_type": "code",
   "execution_count": 56,
   "id": "a84d9d44-1999-43e7-9c03-fb922cefaeae",
   "metadata": {},
   "outputs": [
    {
     "name": "stdout",
     "output_type": "stream",
     "text": [
      "cuda:0\n"
     ]
    }
   ],
   "source": [
    "# Assuming model.distilbert.embeddings is the embeddings module\n",
    "embeddings_tensor = model.distilbert.embeddings.word_embeddings.weight\n",
    "print(embeddings_tensor.device)\n"
   ]
  },
  {
   "cell_type": "code",
   "execution_count": 83,
   "id": "2e7449b4-47ab-4d09-a1b1-4b358e5abc7a",
   "metadata": {},
   "outputs": [
    {
     "name": "stdout",
     "output_type": "stream",
     "text": [
      "Cosine similarity between 'hello' and 'world': 0.15459829568862915\n"
     ]
    }
   ],
   "source": [
    "from transformers import BertModel, BertTokenizer\n",
    "import torch\n",
    "\n",
    "# Load the model and tokenizer\n",
    "# model = BertModel.from_pretrained('bert-base-uncased')\n",
    "# tokenizer = BertTokenizer.from_pretrained('bert-base-uncased')\n",
    "\n",
    "# Get embeddings from the model\n",
    "embeddings = model.get_input_embeddings()\n",
    "all_embeddings = embeddings.weight  # This is the matrix of all token embeddings\n",
    "\n",
    "# Example: Compare embeddings for two words\n",
    "token_id_1 = tokenizer.convert_tokens_to_ids('hello')\n",
    "token_id_2 = tokenizer.convert_tokens_to_ids('world')\n",
    "\n",
    "# Retrieve embeddings for these tokens\n",
    "embedding_1 = all_embeddings[token_id_1]\n",
    "embedding_2 = all_embeddings[token_id_2]\n",
    "\n",
    "# Compute cosine similarity between these two embeddings\n",
    "cosine_similarity = torch.nn.functional.cosine_similarity(embedding_1, embedding_2, dim=0)\n",
    "print(f\"Cosine similarity between 'hello' and 'world': {cosine_similarity.item()}\")\n"
   ]
  }
 ],
 "metadata": {
  "kernelspec": {
   "display_name": "phd1",
   "language": "python",
   "name": "phd1"
  },
  "language_info": {
   "codemirror_mode": {
    "name": "ipython",
    "version": 3
   },
   "file_extension": ".py",
   "mimetype": "text/x-python",
   "name": "python",
   "nbconvert_exporter": "python",
   "pygments_lexer": "ipython3",
   "version": "3.12.3"
  }
 },
 "nbformat": 4,
 "nbformat_minor": 5
}
